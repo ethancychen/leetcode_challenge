{
 "cells": [
  {
   "cell_type": "markdown",
   "metadata": {},
   "source": [
    "Given a binary tree, determine if it is a valid binary search tree (BST).\n",
    "\n",
    "Assume a BST is defined as follows:\n",
    "\n",
    "The left subtree of a node contains only nodes with keys less than the node's key.\n",
    "The right subtree of a node contains only nodes with keys greater than the node's key.\n",
    "Both the left and right subtrees must also be binary search trees.\n",
    "Example 1:\n",
    "    2\n",
    "   / \\\n",
    "  1   3\n",
    "Binary tree [2,1,3], return true.\n",
    "Example 2:\n",
    "    1\n",
    "   / \\\n",
    "  2   3\n",
    "Binary tree [1,2,3], return false."
   ]
  },
  {
   "cell_type": "code",
   "execution_count": null,
   "metadata": {
    "collapsed": true
   },
   "outputs": [],
   "source": [
    "錯誤想法：一個node是valid滿足\n",
    "(1)左邊比較小且右邊比較大\n",
    "(2)左邊和右邊都是valid\n",
    "---->所有的children都要比較大或比較小"
   ]
  },
  {
   "cell_type": "code",
   "execution_count": 1,
   "metadata": {
    "collapsed": true
   },
   "outputs": [],
   "source": [
    "# Definition for a binary tree node.\n",
    "# class TreeNode:\n",
    "#     def __init__(self, x):\n",
    "#         self.val = x\n",
    "#         self.left = None\n",
    "#         self.right = None\n",
    "\n",
    "class Solution:\n",
    "    def isValidBST(self, root):\n",
    "        \"\"\"\n",
    "        :type root: TreeNode\n",
    "        :rtype: bool\n",
    "        \"\"\"\n",
    "        if root == None:\n",
    "            return True\n",
    "        valid = True\n",
    "        if root.left != None:\n",
    "            if root.left.val >= root.val:\n",
    "                valid = False\n",
    "        if root.right != None:\n",
    "            if root.right.val <= root.val:\n",
    "                valid = False\n",
    "        return valid and self.isValidBST(root.left) and self.isValidBST(root.right)\n",
    "        "
   ]
  },
  {
   "cell_type": "code",
   "execution_count": null,
   "metadata": {
    "collapsed": true
   },
   "outputs": [],
   "source": [
    "treesort法：\n",
    "把output存到一個global variable，檢查是不是已排序(TLE)"
   ]
  },
  {
   "cell_type": "code",
   "execution_count": 2,
   "metadata": {
    "collapsed": true
   },
   "outputs": [],
   "source": [
    "# Definition for a binary tree node.\n",
    "# class TreeNode:\n",
    "#     def __init__(self, x):\n",
    "#         self.val = x\n",
    "#         self.left = None\n",
    "#         self.right = None\n",
    "\n",
    "class Solution:\n",
    "    def __init__(self):\n",
    "        self.outlist = []\n",
    "        \n",
    "    def isValidBST(self, root):\n",
    "        \"\"\"\n",
    "        :type root: TreeNode\n",
    "        :rtype: bool\n",
    "        \"\"\"\n",
    "        self.inorder(root)\n",
    "        return all(self.outlist[i] < self.outlist[i+1] for i in range(len(self.outlist)-1))\n",
    "        \n",
    "    def inorder(self,root):\n",
    "        if root == None:\n",
    "            return\n",
    "        self.isValidBST(root.left)\n",
    "        self.outlist.append(root.val)\n",
    "        self.isValidBST(root.right)\n",
    "        "
   ]
  },
  {
   "cell_type": "code",
   "execution_count": null,
   "metadata": {
    "collapsed": true
   },
   "outputs": [],
   "source": [
    "inorder法：\n",
    "從上面的靈感，不用跑完整個inorder，只要一個個檢查inorder output是否謹守遞增，有一個不符合就可以false了\n",
    "可設一個變數為用來比較上一個的output"
   ]
  },
  {
   "cell_type": "code",
   "execution_count": null,
   "metadata": {
    "collapsed": true
   },
   "outputs": [],
   "source": [
    "# Definition for a binary tree node.\n",
    "# class TreeNode:\n",
    "#     def __init__(self, x):\n",
    "#         self.val = x\n",
    "#         self.left = None\n",
    "#         self.right = None\n",
    "\n",
    "class Solution:\n",
    "    \n",
    "    def isValidBST(self, root):\n",
    "        \"\"\"\n",
    "        :type root: TreeNode\n",
    "        :rtype: bool\n",
    "        \"\"\"\n",
    "        if root == None:\n",
    "            return True\n",
    "        stack = []\n",
    "        cur = root\n",
    "        pre = None\n",
    "        while True:\n",
    "            while cur != None:\n",
    "                stack.append(cur)\n",
    "                cur = cur.left\n",
    "            if stack == []:\n",
    "                break\n",
    "            \n",
    "            cur = stack.pop()\n",
    "            if pre != None:\n",
    "                if pre.val >= cur.val:\n",
    "                    return False\n",
    "            \n",
    "            pre = cur\n",
    "            \n",
    "            cur = cur.right\n",
    "        \n",
    "        return True"
   ]
  },
  {
   "cell_type": "code",
   "execution_count": 10,
   "metadata": {},
   "outputs": [
    {
     "ename": "ValueError",
     "evalue": "invalid literal for int() with base 10: '-Infinity'",
     "output_type": "error",
     "traceback": [
      "\u001b[0;31m---------------------------------------------------------------------------\u001b[0m",
      "\u001b[0;31mValueError\u001b[0m                                Traceback (most recent call last)",
      "\u001b[0;32m<ipython-input-10-cfda248cbd84>\u001b[0m in \u001b[0;36m<module>\u001b[0;34m()\u001b[0m\n\u001b[0;32m----> 1\u001b[0;31m \u001b[0mint\u001b[0m\u001b[0;34m(\u001b[0m\u001b[0;34m'-Infinity'\u001b[0m\u001b[0;34m)\u001b[0m\u001b[0;34m\u001b[0m\u001b[0m\n\u001b[0m",
      "\u001b[0;31mValueError\u001b[0m: invalid literal for int() with base 10: '-Infinity'"
     ]
    }
   ],
   "source": [
    "另解：min/max法\n",
    "對於每一個node，檢查其是否符合其max, min"
   ]
  },
  {
   "cell_type": "code",
   "execution_count": 13,
   "metadata": {},
   "outputs": [
    {
     "data": {
      "text/plain": [
       "-inf"
      ]
     },
     "execution_count": 13,
     "metadata": {},
     "output_type": "execute_result"
    }
   ],
   "source": []
  },
  {
   "cell_type": "markdown",
   "metadata": {},
   "source": [
    "# 注意"
   ]
  },
  {
   "cell_type": "markdown",
   "metadata": {},
   "source": [
    "### 背！\n",
    "iterative inorder DFS上面有提供很好的作法，可記下來"
   ]
  },
  {
   "cell_type": "code",
   "execution_count": null,
   "metadata": {
    "collapsed": true
   },
   "outputs": [],
   "source": [
    "while True:\n",
    "    #step 1 對於每一個node，把所有left child丟到stack 中，直接跳到其最左的leaf\n",
    "    while cur != None:\n",
    "        stack.append(cur)\n",
    "        cur = cur.left\n",
    "    \n",
    "    # step 2 如果stack 為空，則結束\n",
    "    if stack == []:\n",
    "        break\n",
    "        \n",
    "    # step 3 拿出stack 中的東西來做\n",
    "\n",
    "    cur = stack.pop()\n",
    "    if pre != None:\n",
    "        if pre.val >= cur.val:\n",
    "            return False\n",
    "\n",
    "    pre = cur\n",
    "    # step 4 直接換到right child，下一輪就會開始把該right child的left child們丟到stack中\n",
    "    # cur沒有right child時，下一輪就會第一步跳過，拿出stack中剩下的東西來做\n",
    "    cur = cur.right"
   ]
  }
 ],
 "metadata": {
  "kernelspec": {
   "display_name": "Python 3",
   "language": "python",
   "name": "python3"
  },
  "language_info": {
   "codemirror_mode": {
    "name": "ipython",
    "version": 3
   },
   "file_extension": ".py",
   "mimetype": "text/x-python",
   "name": "python",
   "nbconvert_exporter": "python",
   "pygments_lexer": "ipython3",
   "version": "3.6.1"
  }
 },
 "nbformat": 4,
 "nbformat_minor": 2
}
