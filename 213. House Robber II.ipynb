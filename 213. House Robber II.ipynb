{
 "cells": [
  {
   "cell_type": "markdown",
   "metadata": {},
   "source": [
    "Note: This is an extension of House Robber.\n",
    "\n",
    "After robbing those houses on that street, the thief has found himself a new place for his thievery so that he will not get too much attention. This time, all houses at this place are arranged in a circle. That means the first house is the neighbor of the last one. Meanwhile, the security system for these houses remain the same as for those in the previous street.\n",
    "\n",
    "Given a list of non-negative integers representing the amount of money of each house, determine the maximum amount of money you can rob tonight without alerting the police."
   ]
  },
  {
   "cell_type": "code",
   "execution_count": null,
   "metadata": {
    "collapsed": true
   },
   "outputs": [],
   "source": [
    "環狀意思就是第一個和最後一個不可以都被取到\n",
    "那就分開討論：刪掉第一個跟刪掉最後一個"
   ]
  },
  {
   "cell_type": "code",
   "execution_count": null,
   "metadata": {
    "collapsed": true
   },
   "outputs": [],
   "source": [
    "class Solution(object):\n",
    "    def rob(self, nums):\n",
    "        \"\"\"\n",
    "        :type nums: List[int]\n",
    "        :rtype: int\n",
    "        \"\"\"\n",
    "        if len(nums)==0:\n",
    "            return 0\n",
    "        if len(nums)==1:\n",
    "            return nums[0]\n",
    "        if len(nums)==2:\n",
    "            return max(nums[0],nums[1])\n",
    "        withoutlast = [0]*len(nums)\n",
    "        withoutlast[0] = nums[0]\n",
    "        withoutlast[1] = max(nums[0],nums[1])\n",
    "        for i in range(2,len(nums)-1):\n",
    "            withoutlast[i] = max(nums[i]+withoutlast[i-2],withoutlast[i-1])\n",
    "        \n",
    "        withoutfirst = [0]*len(nums)\n",
    "        withoutfirst[1] = nums[1]\n",
    "        withoutfirst[2] = max(nums[1],nums[2])\n",
    "        for i in range(3,len(nums)):\n",
    "            withoutfirst[i] = max(nums[i]+withoutfirst[i-2],withoutfirst[i-1])\n",
    "        \n",
    "        return max(withoutlast[len(nums)-2],withoutfirst[len(nums)-1])\n",
    "        \n",
    "        "
   ]
  }
 ],
 "metadata": {
  "kernelspec": {
   "display_name": "Python 3",
   "language": "python",
   "name": "python3"
  },
  "language_info": {
   "codemirror_mode": {
    "name": "ipython",
    "version": 3
   },
   "file_extension": ".py",
   "mimetype": "text/x-python",
   "name": "python",
   "nbconvert_exporter": "python",
   "pygments_lexer": "ipython3",
   "version": "3.6.1"
  }
 },
 "nbformat": 4,
 "nbformat_minor": 2
}
