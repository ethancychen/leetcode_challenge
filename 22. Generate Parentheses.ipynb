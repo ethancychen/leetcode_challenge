{
 "cells": [
  {
   "cell_type": "markdown",
   "metadata": {},
   "source": [
    "Given n pairs of parentheses, write a function to generate all combinations of well-formed parentheses.\n",
    "\n",
    "For example, given n = 3, a solution set is:\n",
    "\n",
    "[\n",
    "  \"((()))\",\n",
    "  \"(()())\",\n",
    "  \"(())()\",\n",
    "  \"()(())\",\n",
    "  \"()()()\"\n",
    "]"
   ]
  },
  {
   "cell_type": "code",
   "execution_count": null,
   "metadata": {
    "collapsed": true
   },
   "outputs": [],
   "source": [
    "暴力法：先產生所有可能(2**n種)在依照第20題的方法剔除不合的，複雜度O(2^n)"
   ]
  },
  {
   "cell_type": "code",
   "execution_count": 82,
   "metadata": {
    "collapsed": true
   },
   "outputs": [],
   "source": [
    "class Solution(object):\n",
    "    def generateParenthesis(self, n):\n",
    "        \"\"\"\n",
    "        :type n: int\n",
    "        :rtype: List[str]\n",
    "        \"\"\"\n",
    "        if n<=0:\n",
    "            return ['']\n",
    "        import itertools\n",
    "        allpossible = list(map(lambda x:\"\".join(list(x)),list(itertools.product('()', repeat=n*2))))\n",
    "        #print(allpossible)\n",
    "        allvalidpossible = [x for x in allpossible if self.valid(x)]\n",
    "        return allvalidpossible\n",
    "    \n",
    "    def valid(self,s):\n",
    "        if s == '':\n",
    "            return True\n",
    "        l = []\n",
    "        for i in s:\n",
    "            if i == '(':\n",
    "                l.append(i)\n",
    "            else:\n",
    "                if l == []:\n",
    "                    return False\n",
    "                a = l.pop(-1)\n",
    "                if not (a =='(' and i==')'):\n",
    "                    return False\n",
    "        if l==[]:\n",
    "            return True\n",
    "        else:\n",
    "            return False"
   ]
  },
  {
   "cell_type": "code",
   "execution_count": null,
   "metadata": {
    "collapsed": true
   },
   "outputs": [],
   "source": [
    "DP：要小心想，複雜度其實也不低，因為會跑出重複的\n",
    "f(n) = set(f(1) f(n-1) , f(2)f(n-2)...f(n-1)f(1))"
   ]
  },
  {
   "cell_type": "markdown",
   "metadata": {},
   "source": [
    "# 注意"
   ]
  },
  {
   "cell_type": "markdown",
   "metadata": {},
   "source": [
    "排列組合，使用\n",
    "import itertools\n",
    "\n",
    "見https://docs.python.org/2/library/itertools.html#module-itertools\n",
    "product('ABCD', repeat=2) #AA AB AC AD BA BB BC BD CA CB CC CD DA DB DC DD\n",
    "permutations('ABCD', 2)  #AB AC AD BA BC BD CA CB CD DA DB DC\n",
    "combinations('ABCD', 2) #AB AC AD BC BD CD\n",
    "combinations_with_replacement('ABCD', 2)  #AA AB AC AD BB BC BD CC CD DD"
   ]
  }
 ],
 "metadata": {
  "kernelspec": {
   "display_name": "Python 3",
   "language": "python",
   "name": "python3"
  },
  "language_info": {
   "codemirror_mode": {
    "name": "ipython",
    "version": 3
   },
   "file_extension": ".py",
   "mimetype": "text/x-python",
   "name": "python",
   "nbconvert_exporter": "python",
   "pygments_lexer": "ipython3",
   "version": "3.6.1"
  }
 },
 "nbformat": 4,
 "nbformat_minor": 2
}
