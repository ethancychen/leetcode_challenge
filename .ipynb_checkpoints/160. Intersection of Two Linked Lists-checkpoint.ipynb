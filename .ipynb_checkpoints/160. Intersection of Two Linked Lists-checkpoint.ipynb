{
 "cells": [
  {
   "cell_type": "markdown",
   "metadata": {},
   "source": [
    "Write a program to find the node at which the intersection of two singly linked lists begins.\n",
    "\n",
    "\n",
    "For example, the following two linked lists:\n",
    "\n",
    "A:          a1 → a2\n",
    "                   ↘\n",
    "                     c1 → c2 → c3\n",
    "                   ↗            \n",
    "B:     b1 → b2 → b3\n",
    "begin to intersect at node c1.\n",
    "\n",
    "\n",
    "Notes:\n",
    "\n",
    "If the two linked lists have no intersection at all, return null.\n",
    "The linked lists must retain their original structure after the function returns.\n",
    "You may assume there are no cycles anywhere in the entire linked structure.\n",
    "Your code should preferably run in O(n) time and use only O(1) memory."
   ]
  },
  {
   "cell_type": "code",
   "execution_count": null,
   "metadata": {
    "collapsed": true
   },
   "outputs": [],
   "source": [
    "解法：p1和p2分別從A跟B同時出發，p1到底之後從B開始，p2到底後從A開始，如此p1會經過ACB，p2會經過BCA，所以當p1p2相遇時就是交會點"
   ]
  },
  {
   "cell_type": "code",
   "execution_count": 1,
   "metadata": {
    "collapsed": true
   },
   "outputs": [],
   "source": [
    "# Definition for singly-linked list.\n",
    "# class ListNode(object):\n",
    "#     def __init__(self, x):\n",
    "#         self.val = x\n",
    "#         self.next = None\n",
    "\n",
    "class Solution(object):\n",
    "    def getIntersectionNode(self, headA, headB):\n",
    "        \"\"\"\n",
    "        :type head1, head1: ListNode\n",
    "        :rtype: ListNode\n",
    "        \"\"\"\n",
    "        if headA == None or headB == None:\n",
    "            return None\n",
    "        \n",
    "        # first check wether there is an intersect\n",
    "        Alast = headA\n",
    "        Blast = headB\n",
    "        \n",
    "        while Alast.next!=None:\n",
    "            Alast = Alast.next\n",
    "        while Blast.next!=None:\n",
    "            Blast = Blast.next\n",
    "        if Alast != Blast:\n",
    "            return None\n",
    "        \n",
    "        #find intersect\n",
    "        p1 = headA\n",
    "        p2 = headB        \n",
    "        while True:\n",
    "            if p1 == p2:\n",
    "                return p1\n",
    "            p1 = p1.next\n",
    "            p2 = p2.next\n",
    "            if p1 == None:\n",
    "                p1 = headB\n",
    "            if p2 == None:\n",
    "                p2 = headA\n",
    "            \n",
    "            "
   ]
  },
  {
   "cell_type": "code",
   "execution_count": null,
   "metadata": {
    "collapsed": true
   },
   "outputs": [],
   "source": []
  }
 ],
 "metadata": {
  "kernelspec": {
   "display_name": "Python 3",
   "language": "python",
   "name": "python3"
  },
  "language_info": {
   "codemirror_mode": {
    "name": "ipython",
    "version": 3
   },
   "file_extension": ".py",
   "mimetype": "text/x-python",
   "name": "python",
   "nbconvert_exporter": "python",
   "pygments_lexer": "ipython3",
   "version": "3.6.1"
  }
 },
 "nbformat": 4,
 "nbformat_minor": 2
}
