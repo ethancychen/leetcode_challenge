{
 "cells": [
  {
   "cell_type": "markdown",
   "metadata": {},
   "source": [
    "Given a string s and a non-empty string p, find all the start indices of p's anagrams in s.\n",
    "\n",
    "Strings consists of lowercase English letters only and the length of both strings s and p will not be larger than 20,100.\n",
    "\n",
    "The order of output does not matter.\n",
    "\n",
    "Example 1:\n",
    "\n",
    "Input:\n",
    "s: \"cbaebabacd\" p: \"abc\"\n",
    "\n",
    "Output:\n",
    "[0, 6]\n",
    "\n",
    "Explanation:\n",
    "The substring with start index = 0 is \"cba\", which is an anagram of \"abc\".\n",
    "The substring with start index = 6 is \"bac\", which is an anagram of \"abc\".\n",
    "Example 2:\n",
    "\n",
    "Input:\n",
    "s: \"abab\" p: \"ab\"\n",
    "\n",
    "Output:\n",
    "[0, 1, 2]\n",
    "\n",
    "Explanation:\n",
    "The substring with start index = 0 is \"ab\", which is an anagram of \"ab\".\n",
    "The substring with start index = 1 is \"ba\", which is an anagram of \"ab\".\n",
    "The substring with start index = 2 is \"ab\", which is an anagram of \"ab\"."
   ]
  },
  {
   "cell_type": "code",
   "execution_count": null,
   "metadata": {
    "collapsed": true
   },
   "outputs": [],
   "source": [
    "法一：製造p的元素的hashtable，然後比較每個substring的hashtable是否相同    (TLE)\n",
    "O(sp), space O(p)"
   ]
  },
  {
   "cell_type": "code",
   "execution_count": 20,
   "metadata": {
    "collapsed": true
   },
   "outputs": [],
   "source": [
    "class Solution(object):\n",
    "    def findAnagrams(self, s, p):\n",
    "        \"\"\"\n",
    "        :type s: str\n",
    "        :type p: str\n",
    "        :rtype: List[int]\n",
    "        \"\"\"\n",
    "        ptable = self.hashTable(p)\n",
    "        ind = []\n",
    "        for i in range(len(s)-len(p)+1):\n",
    "            if ptable == self.hashTable(s[i:i+len(p)]):\n",
    "                ind.append(i)\n",
    "        return ind\n",
    "        \n",
    "    def hashTable(self,s):\n",
    "        table = {}\n",
    "        for i in s:\n",
    "            if i not in table.keys():\n",
    "                table[i] = 1\n",
    "            else:\n",
    "                table[i]+=1\n",
    "        return table\n",
    "            "
   ]
  },
  {
   "cell_type": "code",
   "execution_count": null,
   "metadata": {
    "collapsed": true
   },
   "outputs": [],
   "source": [
    "法一改良版：既然知道所有char都是lowercase alphabet，可以不用dictionary   (TLE)"
   ]
  },
  {
   "cell_type": "code",
   "execution_count": 22,
   "metadata": {
    "collapsed": true
   },
   "outputs": [],
   "source": [
    "class Solution(object):\n",
    "    def findAnagrams(self, s, p):\n",
    "        \"\"\"\n",
    "        :type s: str\n",
    "        :type p: str\n",
    "        :rtype: List[int]\n",
    "        \"\"\"\n",
    "        ptable = self.hashTable(p)\n",
    "        ind = []\n",
    "        for i in range(len(s)-len(p)+1):\n",
    "            if ptable == self.hashTable(s[i:i+len(p)]):\n",
    "                ind.append(i)\n",
    "        return ind\n",
    "        \n",
    "    def hashTable(self,s):\n",
    "        table = [0]*26\n",
    "        for i in s:\n",
    "            table[ord(i)-97]+=1\n",
    "        return table\n",
    "            "
   ]
  },
  {
   "cell_type": "code",
   "execution_count": null,
   "metadata": {
    "collapsed": true
   },
   "outputs": [],
   "source": [
    "法一再次改良版：更新s substring的hashtable，而不次每次都產生新的"
   ]
  },
  {
   "cell_type": "code",
   "execution_count": 34,
   "metadata": {
    "collapsed": true
   },
   "outputs": [],
   "source": [
    "class Solution(object):\n",
    "    def findAnagrams(self, s, p):\n",
    "        \"\"\"\n",
    "        :type s: str\n",
    "        :type p: str\n",
    "        :rtype: List[int]\n",
    "        \"\"\"\n",
    "        ptable = self.hashTable(p)\n",
    "        ind = []\n",
    "        \n",
    "        ssubtable = self.hashTable(s[:len(p)])\n",
    "        if ptable == ssubtable:\n",
    "            ind.append(0)\n",
    "        for i in range(1,len(s)-len(p)+1):\n",
    "            ssubtable[ord(s[i-1])-97]-=1\n",
    "            ssubtable[ord(s[i+len(p)-1])-97]+=1            \n",
    "            if ptable == ssubtable:\n",
    "                ind.append(i)\n",
    "        return ind\n",
    "        \n",
    "    def hashTable(self,s):\n",
    "        table = [0]*26\n",
    "        for i in s:\n",
    "            table[ord(i)-97]+=1\n",
    "        return table\n",
    "            "
   ]
  },
  {
   "cell_type": "code",
   "execution_count": 35,
   "metadata": {},
   "outputs": [
    {
     "data": {
      "text/plain": [
       "[0, 2, 4, 6]"
      ]
     },
     "execution_count": 35,
     "metadata": {},
     "output_type": "execute_result"
    }
   ],
   "source": [
    "a=Solution()\n",
    "a.findAnagrams(\"ababababab\",\"aab\")"
   ]
  },
  {
   "cell_type": "markdown",
   "metadata": {
    "collapsed": true
   },
   "source": [
    "# 注意"
   ]
  },
  {
   "cell_type": "code",
   "execution_count": null,
   "metadata": {
    "collapsed": true
   },
   "outputs": [],
   "source": [
    "hash(obj)  #可得出obj的hash值\n",
    "dictionary可以互相==比較"
   ]
  }
 ],
 "metadata": {
  "kernelspec": {
   "display_name": "Python 3",
   "language": "python",
   "name": "python3"
  },
  "language_info": {
   "codemirror_mode": {
    "name": "ipython",
    "version": 3
   },
   "file_extension": ".py",
   "mimetype": "text/x-python",
   "name": "python",
   "nbconvert_exporter": "python",
   "pygments_lexer": "ipython3",
   "version": "3.6.1"
  }
 },
 "nbformat": 4,
 "nbformat_minor": 2
}
