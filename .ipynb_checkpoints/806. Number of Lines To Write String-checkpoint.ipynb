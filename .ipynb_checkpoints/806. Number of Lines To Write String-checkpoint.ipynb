{
 "cells": [
  {
   "cell_type": "markdown",
   "metadata": {},
   "source": [
    "We are to write the letters of a given string S, from left to right into lines. Each line has maximum width 100 units, and if writing a letter would cause the width of the line to exceed 100 units, it is written on the next line. We are given an array widths, an array where widths[0] is the width of 'a', widths[1] is the width of 'b', ..., and widths[25] is the width of 'z'.\n",
    "\n",
    "Now answer two questions: how many lines have at least one character from S, and what is the width used by the last such line? Return your answer as an integer list of length 2.\n",
    "\n",
    " \n",
    "\n",
    "Example :\n",
    "Input: \n",
    "widths = [10,10,10,10,10,10,10,10,10,10,10,10,10,10,10,10,10,10,10,10,10,10,10,10,10,10]\n",
    "S = \"abcdefghijklmnopqrstuvwxyz\"\n",
    "Output: [3, 60]\n",
    "Explanation: \n",
    "All letters have the same length of 10. To write all 26 letters,\n",
    "we need two full lines and one line with 60 units.\n",
    "Example :\n",
    "Input: \n",
    "widths = [4,10,10,10,10,10,10,10,10,10,10,10,10,10,10,10,10,10,10,10,10,10,10,10,10,10]\n",
    "S = \"bbbcccdddaaa\"\n",
    "Output: [2, 4]\n",
    "Explanation: \n",
    "All letters except 'a' have the same length of 10, and \n",
    "\"bbbcccdddaa\" will cover 9 * 10 + 2 * 4 = 98 units.\n",
    "For the last 'a', it is written on the second line because\n",
    "there is only 2 units left in the first line.\n",
    "So the answer is 2 lines, plus 4 units in the second line.\n",
    " \n",
    "\n",
    "Note:\n",
    "\n",
    "The length of S will be in the range [1, 1000].\n",
    "S will only contain lowercase letters.\n",
    "widths is an array of length 26.\n",
    "widths[i] will be in the range of [2, 10]."
   ]
  },
  {
   "cell_type": "code",
   "execution_count": null,
   "metadata": {},
   "outputs": [],
   "source": [
    "尼瑪這英文的題意好難懂，就是一直寫字，如果有一個單字塞不下去就往下一行塞\n"
   ]
  },
  {
   "cell_type": "code",
   "execution_count": 3,
   "metadata": {},
   "outputs": [],
   "source": [
    "class Solution:\n",
    "    def numberOfLines(self, widths, S):\n",
    "        \"\"\"\n",
    "        :type widths: List[int]\n",
    "        :type S: str\n",
    "        :rtype: List[int]\n",
    "        \"\"\"\n",
    "        lines = 1\n",
    "        last = 0\n",
    "        for i in S:\n",
    "            curwidth = widths[ord(i)-ord('a')]\n",
    "            if last+curwidth>100:\n",
    "                lines+=1\n",
    "                last = 0\n",
    "            last+=curwidth\n",
    "        return [lines,last]"
   ]
  },
  {
   "cell_type": "code",
   "execution_count": null,
   "metadata": {},
   "outputs": [],
   "source": [
    "注意：要回傳ascii可用ord(chr)"
   ]
  }
 ],
 "metadata": {
  "kernelspec": {
   "display_name": "Python 3",
   "language": "python",
   "name": "python3"
  },
  "language_info": {
   "codemirror_mode": {
    "name": "ipython",
    "version": 3
   },
   "file_extension": ".py",
   "mimetype": "text/x-python",
   "name": "python",
   "nbconvert_exporter": "python",
   "pygments_lexer": "ipython3",
   "version": "3.6.1"
  }
 },
 "nbformat": 4,
 "nbformat_minor": 2
}
