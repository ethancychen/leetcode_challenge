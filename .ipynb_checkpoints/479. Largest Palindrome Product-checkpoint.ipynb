{
 "cells": [
  {
   "cell_type": "markdown",
   "metadata": {},
   "source": [
    "Find the largest palindrome made from the product of two n-digit numbers.\n",
    "\n",
    "Since the result could be very large, you should return the largest palindrome mod 1337.\n",
    "\n",
    "Example:\n",
    "\n",
    "Input: 2\n",
    "\n",
    "Output: 987\n",
    "\n",
    "Explanation: 99 x 91 = 9009, 9009 % 1337 = 987\n",
    "\n",
    "Note:\n",
    "\n",
    "The range of n is [1,8]"
   ]
  },
  {
   "cell_type": "code",
   "execution_count": null,
   "metadata": {},
   "outputs": [],
   "source": [
    "解一：觀察到1位數相乘是1到2位數，2位數相乘是3到4位數，3位數相乘是5到6位數，n位數相乘是2n-1到2n位數\n",
    "先做迴文答案再檢查是否為兩個n位數乘積(TLE)"
   ]
  },
  {
   "cell_type": "code",
   "execution_count": 63,
   "metadata": {},
   "outputs": [],
   "source": [
    "class Solution:\n",
    "    def largestPalindrome(self, n):\n",
    "        \"\"\"\n",
    "        :type n: int\n",
    "        :rtype: int\n",
    "        \"\"\"\n",
    "        if n==1:\n",
    "            return 9\n",
    "        high = 10**n-1\n",
    "        low = int((10**n-1)/10)\n",
    "        for i in range(high,low,-1):\n",
    "            num = int(str(i)+str(i)[::-1])\n",
    "            #print(\"num\"+str(num))\n",
    "            for j in range(high,low,-1):\n",
    "                #print(j)\n",
    "                if num/j > high:\n",
    "                    break\n",
    "                if num%j==0:\n",
    "                    return num%1337\n",
    "            "
   ]
  },
  {
   "cell_type": "code",
   "execution_count": null,
   "metadata": {},
   "outputs": [],
   "source": [
    "解二：先相乘再檢查是否為回文，不可行，會漏找"
   ]
  },
  {
   "cell_type": "code",
   "execution_count": 100,
   "metadata": {},
   "outputs": [],
   "source": [
    "class Solution:\n",
    "    def largestPalindrome(self, n):\n",
    "        \"\"\"\n",
    "        :type n: int\n",
    "        :rtype: int\n",
    "        \"\"\"\n",
    "        if n==1:\n",
    "            return 9\n",
    "        for high in range(10**n-1,10**(n-1),-1):\n",
    "            for low in range(high,10**(n-1),-1):\n",
    "                    break\n",
    "                num = high*low\n",
    "                if(self.isP(str(num))):\n",
    "                    return num%1337\n",
    "    def isP(self,numstr):\n",
    "        import math\n",
    "        return numstr==numstr[::-1]\n",
    "            "
   ]
  },
  {
   "cell_type": "code",
   "execution_count": 101,
   "metadata": {},
   "outputs": [
    {
     "data": {
      "text/plain": [
       "1164"
      ]
     },
     "execution_count": 101,
     "metadata": {},
     "output_type": "execute_result"
    }
   ],
   "source": [
    "Solution().largestPalindrome(3)"
   ]
  },
  {
   "cell_type": "code",
   "execution_count": null,
   "metadata": {},
   "outputs": [],
   "source": [
    "解二：反正n的範圍只有到8，那乾脆背答案"
   ]
  },
  {
   "cell_type": "code",
   "execution_count": null,
   "metadata": {},
   "outputs": [],
   "source": [
    "class Solution(object):\n",
    "    def largestPalindrome(self, n):\n",
    "        \"\"\"\n",
    "        :type n: int\n",
    "        :rtype: int\n",
    "        \"\"\"\n",
    "        return [9, 9009, 906609, 99000099, 9966006699, 999000000999,99956644665999, 9999000000009999][n - 1] % 1337"
   ]
  },
  {
   "cell_type": "code",
   "execution_count": null,
   "metadata": {},
   "outputs": [],
   "source": [
    "注意：這題吃語言本身的速度"
   ]
  }
 ],
 "metadata": {
  "kernelspec": {
   "display_name": "Python 3",
   "language": "python",
   "name": "python3"
  },
  "language_info": {
   "codemirror_mode": {
    "name": "ipython",
    "version": 3
   },
   "file_extension": ".py",
   "mimetype": "text/x-python",
   "name": "python",
   "nbconvert_exporter": "python",
   "pygments_lexer": "ipython3",
   "version": "3.6.1"
  }
 },
 "nbformat": 4,
 "nbformat_minor": 2
}
