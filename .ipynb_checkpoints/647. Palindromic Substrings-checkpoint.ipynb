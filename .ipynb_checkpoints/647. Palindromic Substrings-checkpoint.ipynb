{
 "cells": [
  {
   "cell_type": "markdown",
   "metadata": {},
   "source": [
    "Given a string, your task is to count how many palindromic substrings in this string.\n",
    "\n",
    "The substrings with different start indexes or end indexes are counted as different substrings even they consist of same characters.\n",
    "\n",
    "Example 1:\n",
    "Input: \"abc\"\n",
    "Output: 3\n",
    "Explanation: Three palindromic strings: \"a\", \"b\", \"c\".\n",
    "Example 2:\n",
    "Input: \"aaa\"\n",
    "Output: 6\n",
    "Explanation: Six palindromic strings: \"a\", \"a\", \"a\", \"aa\", \"aa\", \"aaa\".\n",
    "Note:\n",
    "The input string length won't exceed 1000."
   ]
  },
  {
   "cell_type": "markdown",
   "metadata": {},
   "source": [
    "解一：暴力法，把所有substring抓出來檢查是不是palindrom，單字母可以不用檢查直接加(TLE)"
   ]
  },
  {
   "cell_type": "code",
   "execution_count": 59,
   "metadata": {},
   "outputs": [],
   "source": [
    "class Solution:\n",
    "    def countSubstrings(self, s):\n",
    "        \"\"\"\n",
    "        :type s: str\n",
    "        :rtype: int\n",
    "        \"\"\"\n",
    "        count = 0\n",
    "        for i in range(len(s)):\n",
    "            for j in range(i+1,len(s)):\n",
    "                #print(\"i=\"+str(i)+\"j=\"+str(j))\n",
    "                if self.isPalindrom(s[i:j+1]):\n",
    "                    #print(s[i:j+1])\n",
    "                    count=count+1\n",
    "        count=count+len(s)\n",
    "        return count\n",
    "    def isPalindrom(self,s):\n",
    "        mid = int(len(s)/2)\n",
    "        if len(s)%2==0:\n",
    "            for i in range(mid):\n",
    "                if s[mid+i]!=s[mid-i-1]:\n",
    "                    return False\n",
    "        else:\n",
    "            for i in range(mid+1):\n",
    "                if s[mid+i]!=s[mid-i]:\n",
    "                    return False\n",
    "        return True"
   ]
  },
  {
   "cell_type": "markdown",
   "metadata": {},
   "source": [
    "解二：從每個字母往旁邊長"
   ]
  },
  {
   "cell_type": "code",
   "execution_count": 63,
   "metadata": {},
   "outputs": [],
   "source": [
    "class Solution:\n",
    "    def countSubstrings(self, s):\n",
    "        \"\"\"\n",
    "        :type s: str\n",
    "        :rtype: int\n",
    "        \"\"\"\n",
    "        count = len(s)\n",
    "        #even\n",
    "        for i in range(len(s)):\n",
    "            length = 1\n",
    "            \n",
    "            while(i-length>=0 and i+length<len(s)):\n",
    "                if s[i+length]==s[i-length]:\n",
    "                    length=length+1\n",
    "                    count=count+1\n",
    "                else:\n",
    "                    break\n",
    "        #odd\n",
    "        for i in range(len(s)-1):\n",
    "            length = 0\n",
    "            while(i-length>=0 and i+1+length<len(s)):\n",
    "                if s[i+1+length]==s[i-length]:\n",
    "                    length=length+1\n",
    "                    count=count+1\n",
    "                else:\n",
    "                    break\n",
    "            \n",
    "        count=count\n",
    "        return count"
   ]
  },
  {
   "cell_type": "code",
   "execution_count": 66,
   "metadata": {},
   "outputs": [
    {
     "data": {
      "text/plain": [
       "15"
      ]
     },
     "execution_count": 66,
     "metadata": {},
     "output_type": "execute_result"
    }
   ],
   "source": [
    "a=Solution()\n",
    "a.countSubstrings('aaaaa')"
   ]
  },
  {
   "cell_type": "markdown",
   "metadata": {},
   "source": [
    "# 注意"
   ]
  },
  {
   "cell_type": "markdown",
   "metadata": {},
   "source": [
    "string的長度要用len()"
   ]
  },
  {
   "cell_type": "markdown",
   "metadata": {},
   "source": [
    "解二其實可以不用討論奇數偶數，見https://leetcode.com/problems/palindromic-substrings/solution/\n",
    "\n"
   ]
  },
  {
   "cell_type": "code",
   "execution_count": null,
   "metadata": {},
   "outputs": [],
   "source": []
  }
 ],
 "metadata": {
  "kernelspec": {
   "display_name": "Python 3",
   "language": "python",
   "name": "python3"
  },
  "language_info": {
   "codemirror_mode": {
    "name": "ipython",
    "version": 3
   },
   "file_extension": ".py",
   "mimetype": "text/x-python",
   "name": "python",
   "nbconvert_exporter": "python",
   "pygments_lexer": "ipython3",
   "version": "3.6.1"
  }
 },
 "nbformat": 4,
 "nbformat_minor": 2
}
