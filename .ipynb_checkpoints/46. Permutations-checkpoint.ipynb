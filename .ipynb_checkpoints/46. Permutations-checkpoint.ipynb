{
 "cells": [
  {
   "cell_type": "markdown",
   "metadata": {},
   "source": [
    "Given a collection of distinct integers, return all possible permutations.\n",
    "\n",
    "Example:\n",
    "\n",
    "Input: [1,2,3]\n",
    "Output:\n",
    "[\n",
    "  [1,2,3],\n",
    "  [1,3,2],\n",
    "  [2,1,3],\n",
    "  [2,3,1],\n",
    "  [3,1,2],\n",
    "  [3,2,1]\n",
    "]"
   ]
  },
  {
   "cell_type": "markdown",
   "metadata": {},
   "source": [
    "解一：作弊XD  就用iter tools"
   ]
  },
  {
   "cell_type": "code",
   "execution_count": 10,
   "metadata": {},
   "outputs": [],
   "source": [
    "class Solution:\n",
    "    def permute(self, nums):\n",
    "        \"\"\"\n",
    "        :type nums: List[int]\n",
    "        :rtype: List[List[int]]\n",
    "        \"\"\"\n",
    "        import itertools\n",
    "        return [list(x) for x in list(itertools.permutations(nums, len(nums)))]"
   ]
  },
  {
   "cell_type": "code",
   "execution_count": null,
   "metadata": {},
   "outputs": [],
   "source": [
    "解二：題目提到數字都不同，所以不用考慮重複問題，其中一種寫法是遞迴，在每一層中，每一個元素「輪流當最後一個」"
   ]
  },
  {
   "cell_type": "code",
   "execution_count": 44,
   "metadata": {},
   "outputs": [],
   "source": [
    "class Solution:\n",
    "    # Python function to print permutations of a given list\n",
    "    def permute(self,lst):\n",
    "\n",
    "        # If lst is empty then there are no permutations\n",
    "        if len(lst) == 0:\n",
    "            return []\n",
    "\n",
    "        # If there is only one element in lst then, only\n",
    "        # one permuatation is possible\n",
    "        if len(lst) == 1:\n",
    "            return [lst]\n",
    "\n",
    "        # Find the permutations for lst if there are\n",
    "        # more than 1 characters\n",
    "\n",
    "        l = [] # empty list that will store current permutation\n",
    "\n",
    "        # Iterate the input(lst) and calculate the permutation\n",
    "        for i in range(len(lst)):\n",
    "            m = lst[i]\n",
    "\n",
    "            # Extract lst[i] or m from the list.  remLst is\n",
    "            # remaining list\n",
    "            remLst = lst[:i] + lst[i+1:]\n",
    "\n",
    "            # Generating all permutations where m is first\n",
    "            # element\n",
    "            for p in self.permute(remLst):\n",
    "                l.append([m] + p)\n",
    "        return l\n",
    " "
   ]
  },
  {
   "cell_type": "code",
   "execution_count": 45,
   "metadata": {},
   "outputs": [
    {
     "data": {
      "text/plain": [
       "[[1, 2, 3, 4],\n",
       " [1, 2, 4, 3],\n",
       " [1, 3, 2, 4],\n",
       " [1, 3, 4, 2],\n",
       " [1, 4, 2, 3],\n",
       " [1, 4, 3, 2],\n",
       " [2, 1, 3, 4],\n",
       " [2, 1, 4, 3],\n",
       " [2, 3, 1, 4],\n",
       " [2, 3, 4, 1],\n",
       " [2, 4, 1, 3],\n",
       " [2, 4, 3, 1],\n",
       " [3, 1, 2, 4],\n",
       " [3, 1, 4, 2],\n",
       " [3, 2, 1, 4],\n",
       " [3, 2, 4, 1],\n",
       " [3, 4, 1, 2],\n",
       " [3, 4, 2, 1],\n",
       " [4, 1, 2, 3],\n",
       " [4, 1, 3, 2],\n",
       " [4, 2, 1, 3],\n",
       " [4, 2, 3, 1],\n",
       " [4, 3, 1, 2],\n",
       " [4, 3, 2, 1]]"
      ]
     },
     "execution_count": 45,
     "metadata": {},
     "output_type": "execute_result"
    }
   ],
   "source": [
    "a = Solution()\n",
    "a.permute([1,2,3,4])"
   ]
  },
  {
   "cell_type": "markdown",
   "metadata": {},
   "source": [
    "# 注意"
   ]
  },
  {
   "cell_type": "markdown",
   "metadata": {},
   "source": [
    "itertools回傳的東西都會是個itertool的物件\n",
    "而permutation完的各種排列元素會以tuple呈現"
   ]
  },
  {
   "cell_type": "markdown",
   "metadata": {},
   "source": [
    "itertools.permutation的source code在這\n",
    "https://docs.python.org/2/library/itertools.html#itertools.permutations"
   ]
  },
  {
   "cell_type": "markdown",
   "metadata": {},
   "source": [
    "參考解答：有兩種寫法，一種是每一層中都固定一個元素不要動，一種是上面的解二(即每一層中抓一個元素當第一個\\最後一個)\n",
    "https://blog.csdn.net/happyaaaaaaaaaaa/article/details/51534048"
   ]
  }
 ],
 "metadata": {
  "kernelspec": {
   "display_name": "Python 3",
   "language": "python",
   "name": "python3"
  },
  "language_info": {
   "codemirror_mode": {
    "name": "ipython",
    "version": 3
   },
   "file_extension": ".py",
   "mimetype": "text/x-python",
   "name": "python",
   "nbconvert_exporter": "python",
   "pygments_lexer": "ipython3",
   "version": "3.6.1"
  }
 },
 "nbformat": 4,
 "nbformat_minor": 2
}
