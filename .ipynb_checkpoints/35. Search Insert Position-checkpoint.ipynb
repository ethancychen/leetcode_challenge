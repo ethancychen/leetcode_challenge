{
 "cells": [
  {
   "cell_type": "markdown",
   "metadata": {},
   "source": [
    "Given a sorted array and a target value, return the index if the target is found. If not, return the index where it would be if it were inserted in order.\n",
    "\n",
    "You may assume no duplicates in the array.\n",
    "\n",
    "Example 1:\n",
    "\n",
    "Input: [1,3,5,6], 5\n",
    "Output: 2\n",
    "\n",
    "Example 2:\n",
    "\n",
    "Input: [1,3,5,6], 2\n",
    "Output: 1\n",
    "\n",
    "Example 3:\n",
    "\n",
    "Input: [1,3,5,6], 7\n",
    "Output: 4\n",
    "\n",
    "Example 4:\n",
    "\n",
    "Input: [1,3,5,6], 0\n",
    "Output: 0"
   ]
  },
  {
   "cell_type": "code",
   "execution_count": null,
   "metadata": {
    "collapsed": true
   },
   "outputs": [],
   "source": [
    "解法：看到sorted array可用binary search"
   ]
  },
  {
   "cell_type": "code",
   "execution_count": 74,
   "metadata": {},
   "outputs": [],
   "source": [
    "class Solution:\n",
    "    def searchInsert(self, nums, target):\n",
    "        \"\"\"\n",
    "        :type nums: List[int]\n",
    "        :type target: int\n",
    "        :rtype: int\n",
    "        \"\"\"\n",
    "        headind = 0\n",
    "        tailind = len(nums)-1\n",
    "        midind = (int)((tailind+headind)/2)\n",
    "        while(tailind >= headind):\n",
    "            midind = (int)((tailind+headind)/2)\n",
    "            if nums[midind] == target:\n",
    "                return midind\n",
    "            elif nums[midind] > target:\n",
    "                tailind = midind - 1\n",
    "            else:\n",
    "                headind = midind + 1\n",
    "        if nums[tailind] < target:\n",
    "            return tailind+1\n",
    "        elif nums[headind] > target:\n",
    "            return 0\n",
    "        else:\n",
    "            return midind"
   ]
  },
  {
   "cell_type": "code",
   "execution_count": 76,
   "metadata": {},
   "outputs": [
    {
     "name": "stdout",
     "output_type": "stream",
     "text": [
      "0\n",
      "0\n",
      "1\n",
      "1\n",
      "0\n",
      "0\n"
     ]
    },
    {
     "data": {
      "text/plain": [
       "1"
      ]
     },
     "execution_count": 76,
     "metadata": {},
     "output_type": "execute_result"
    }
   ],
   "source": [
    "a = Solution()\n",
    "#a.searchInsert([1,3,5,6], 5)\n",
    "\n",
    "a.searchInsert([1,3,5,6], 2)\n",
    "\n",
    "#a.searchInsert([1,3,5,6], 7)\n",
    "#a.searchInsert([1,3,5,6], 0)\n",
    "#a.searchInsert([1],0)\n",
    "#a.searchInsert([1,3],2)"
   ]
  },
  {
   "cell_type": "code",
   "execution_count": 23,
   "metadata": {},
   "outputs": [
    {
     "data": {
      "text/plain": [
       "'a3'"
      ]
     },
     "execution_count": 23,
     "metadata": {},
     "output_type": "execute_result"
    }
   ],
   "source": []
  },
  {
   "cell_type": "markdown",
   "metadata": {},
   "source": [
    "# 注意\n"
   ]
  },
  {
   "cell_type": "markdown",
   "metadata": {},
   "source": [
    "在python3中，string的串接，必須是全部string\n",
    "E.g.\n",
    "\n",
    "\"abc\"+3+\"\"    #會error\n",
    "\n",
    "\"abc\"+str(3)+\"\"  #正確"
   ]
  },
  {
   "cell_type": "markdown",
   "metadata": {},
   "source": [
    "# 注意"
   ]
  },
  {
   "cell_type": "markdown",
   "metadata": {},
   "source": [
    "注意binary search的實作細節，下面三項要互相搭配好才不會陷入無限迴圈\n",
    "(1)while(tailind >= headind)\n",
    "(2)midind = (tailind+headind)/2\n",
    "(3)更改midind 時  midind= headind+1 及 midind=tailind+1"
   ]
  },
  {
   "cell_type": "markdown",
   "metadata": {},
   "source": [
    "# 注意"
   ]
  },
  {
   "cell_type": "code",
   "execution_count": null,
   "metadata": {
    "collapsed": true
   },
   "outputs": [],
   "source": [
    "題目很好心寫出多筆測資，下次看到題目時可以先想好幾種測資再開始寫\n",
    "也就是說，解題順序：\n",
    "(1)先用一個最簡單的例子建立解題想法\n",
    "(2)想法找到後多想幾個情境與邊際例子\n",
    "(3)開始實作"
   ]
  }
 ],
 "metadata": {
  "kernelspec": {
   "display_name": "Python 3",
   "language": "python",
   "name": "python3"
  },
  "language_info": {
   "codemirror_mode": {
    "name": "ipython",
    "version": 3
   },
   "file_extension": ".py",
   "mimetype": "text/x-python",
   "name": "python",
   "nbconvert_exporter": "python",
   "pygments_lexer": "ipython3",
   "version": "3.6.1"
  }
 },
 "nbformat": 4,
 "nbformat_minor": 2
}
