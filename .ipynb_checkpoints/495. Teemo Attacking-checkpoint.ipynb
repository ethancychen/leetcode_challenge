{
 "cells": [
  {
   "cell_type": "markdown",
   "metadata": {},
   "source": [
    "In LOL world, there is a hero called Teemo and his attacking can make his enemy Ashe be in poisoned condition. Now, given the Teemo's attacking ascending time series towards Ashe and the poisoning time duration per Teemo's attacking, you need to output the total time that Ashe is in poisoned condition.\n",
    "\n",
    "You may assume that Teemo attacks at the very beginning of a specific time point, and makes Ashe be in poisoned condition immediately.\n",
    "\n",
    "Example 1:\n",
    "Input: [1,4], 2\n",
    "Output: 4\n",
    "Explanation: At time point 1, Teemo starts attacking Ashe and makes Ashe be poisoned immediately. \n",
    "This poisoned status will last 2 seconds until the end of time point 2. \n",
    "And at time point 4, Teemo attacks Ashe again, and causes Ashe to be in poisoned status for another 2 seconds. \n",
    "So you finally need to output 4.\n",
    "Example 2:\n",
    "Input: [1,2], 2\n",
    "Output: 3\n",
    "Explanation: At time point 1, Teemo starts attacking Ashe and makes Ashe be poisoned. \n",
    "This poisoned status will last 2 seconds until the end of time point 2. \n",
    "However, at the beginning of time point 2, Teemo attacks Ashe again who is already in poisoned status. \n",
    "Since the poisoned status won't add up together, though the second poisoning attack will still work at time point 2, it will stop at the end of time point 3. \n",
    "So you finally need to output 3.\n",
    "Note:\n",
    "You may assume the length of given time series array won't exceed 10000.\n",
    "You may assume the numbers in the Teemo's attacking time series and his poisoning time duration per attacking are non-negative integers, which won't exceed 10,000,000."
   ]
  },
  {
   "cell_type": "code",
   "execution_count": null,
   "metadata": {},
   "outputs": [],
   "source": [
    "解一：直觀解"
   ]
  },
  {
   "cell_type": "code",
   "execution_count": 6,
   "metadata": {},
   "outputs": [],
   "source": [
    "class Solution:\n",
    "    def findPoisonedDuration(self, timeSeries, duration):\n",
    "        \"\"\"\n",
    "        :type timeSeries: List[int]\n",
    "        :type duration: int\n",
    "        :rtype: int\n",
    "        \"\"\"\n",
    "        if len(timeSeries)==0:\n",
    "            return 0\n",
    "        if duration==0:\n",
    "            return 0\n",
    "        total = 0\n",
    "        for i in range(1,len(timeSeries)):\n",
    "            if timeSeries[i]-timeSeries[i-1]>duration:\n",
    "                total+=duration\n",
    "            else:\n",
    "                total+=timeSeries[i]-timeSeries[i-1]\n",
    "        return total+duration"
   ]
  },
  {
   "cell_type": "code",
   "execution_count": 7,
   "metadata": {},
   "outputs": [
    {
     "data": {
      "text/plain": [
       "4"
      ]
     },
     "execution_count": 7,
     "metadata": {},
     "output_type": "execute_result"
    }
   ],
   "source": [
    "Solution().findPoisonedDuration([1,4], 2)"
   ]
  },
  {
   "cell_type": "markdown",
   "metadata": {},
   "source": [
    "(我其實不知道這題有什麼好medium的)"
   ]
  },
  {
   "cell_type": "code",
   "execution_count": null,
   "metadata": {},
   "outputs": [],
   "source": []
  }
 ],
 "metadata": {
  "kernelspec": {
   "display_name": "Python 3",
   "language": "python",
   "name": "python3"
  },
  "language_info": {
   "codemirror_mode": {
    "name": "ipython",
    "version": 3
   },
   "file_extension": ".py",
   "mimetype": "text/x-python",
   "name": "python",
   "nbconvert_exporter": "python",
   "pygments_lexer": "ipython3",
   "version": "3.6.1"
  }
 },
 "nbformat": 4,
 "nbformat_minor": 2
}
