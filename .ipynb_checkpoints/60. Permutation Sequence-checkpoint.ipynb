{
 "cells": [
  {
   "cell_type": "markdown",
   "metadata": {},
   "source": [
    "The set [1,2,3,...,n] contains a total of n! unique permutations.\n",
    "\n",
    "By listing and labeling all of the permutations in order, we get the following sequence for n = 3:\n",
    "\n",
    "\"123\"\n",
    "\"132\"\n",
    "\"213\"\n",
    "\"231\"\n",
    "\"312\"\n",
    "\"321\"\n",
    "Given n and k, return the kth permutation sequence.\n",
    "\n",
    "Note:\n",
    "\n",
    "Given n will be between 1 and 9 inclusive.\n",
    "Given k will be between 1 and n! inclusive.\n",
    "Example 1:\n",
    "\n",
    "Input: n = 3, k = 3\n",
    "Output: \"213\"\n",
    "Example 2:\n",
    "\n",
    "Input: n = 4, k = 9\n",
    "Output: \"2314\""
   ]
  },
  {
   "cell_type": "code",
   "execution_count": null,
   "metadata": {},
   "outputs": [],
   "source": [
    "法一：作弊～～使用itertools(TLE，顯然不可以真的把所有可能性排出來)"
   ]
  },
  {
   "cell_type": "code",
   "execution_count": 23,
   "metadata": {},
   "outputs": [],
   "source": [
    "class Solution:\n",
    "    def getPermutation(self, n, k):\n",
    "        \"\"\"\n",
    "        :type n: int\n",
    "        :type k: int\n",
    "        :rtype: str\n",
    "        \"\"\"\n",
    "        from itertools import permutations\n",
    "        return \"\".join([str(x) for x in list(list(permutations(list(range(1,n+1))))[k-1])])"
   ]
  },
  {
   "cell_type": "code",
   "execution_count": null,
   "metadata": {},
   "outputs": [],
   "source": [
    "法二：每組都有(n-1)!個"
   ]
  },
  {
   "cell_type": "code",
   "execution_count": 73,
   "metadata": {},
   "outputs": [],
   "source": [
    "class Solution:\n",
    "    def getPermutation(self, n, k):\n",
    "        \"\"\"\n",
    "        :type n: int\n",
    "        :type k: int\n",
    "        :rtype: str\n",
    "        \"\"\"\n",
    "        re = \"\"\n",
    "        fact = [1]*(n-1)\n",
    "        nlist = list(range(1,n+1))\n",
    "        k-=1\n",
    "        for i in range(1,n-1):\n",
    "            fact[i] = fact[i-1]*(i+1)\n",
    "            \n",
    "            \n",
    "        for i in fact[::-1]:\n",
    "            re=re+str(nlist.pop(int(k/i)))\n",
    "            k=k%i\n",
    "        return re+str(nlist[0])"
   ]
  },
  {
   "cell_type": "code",
   "execution_count": 77,
   "metadata": {},
   "outputs": [
    {
     "data": {
      "text/plain": [
       "'2314'"
      ]
     },
     "execution_count": 77,
     "metadata": {},
     "output_type": "execute_result"
    }
   ],
   "source": [
    "Solution().getPermutation(4,9)"
   ]
  }
 ],
 "metadata": {
  "kernelspec": {
   "display_name": "Python 3",
   "language": "python",
   "name": "python3"
  },
  "language_info": {
   "codemirror_mode": {
    "name": "ipython",
    "version": 3
   },
   "file_extension": ".py",
   "mimetype": "text/x-python",
   "name": "python",
   "nbconvert_exporter": "python",
   "pygments_lexer": "ipython3",
   "version": "3.6.1"
  }
 },
 "nbformat": 4,
 "nbformat_minor": 2
}
