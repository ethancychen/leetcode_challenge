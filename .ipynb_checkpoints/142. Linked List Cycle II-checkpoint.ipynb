{
 "cells": [
  {
   "cell_type": "markdown",
   "metadata": {},
   "source": [
    "\n",
    "Given a linked list, return the node where the cycle begins. If there is no cycle, return null.\n",
    "\n",
    "Note: Do not modify the linked list.\n",
    "\n",
    "Follow up:\n",
    "Can you solve it without using extra space?"
   ]
  },
  {
   "cell_type": "markdown",
   "metadata": {},
   "source": [
    "想法：延續著141 fast(每次兩步) and slow(每次一步) runner的想法\n",
    "\n",
    "\n",
    "想像圖\n",
    "         |-----------|\n",
    "--m--進入點---相遇點---|\n",
    "\n",
    "進入cycle之前有m個，cycle大小為n\n",
    "(1)\n",
    "假設slow runner在進入cycle後繞了a圈後又k步被fast runner(已經繞了b圈又k步)追上\n",
    "則2(m+a*n+k) = m+bn+k\n",
    "(2)\n",
    "因為fast和slow的相對速度是1，所以可以保證他們第一次相遇時，slow runner根本還沒繞完一圈，且fast runner必定是超前一圈而已\n",
    "則a=0, b=1\n",
    "綜合以上(1),(2)\n",
    "得出m+k = n"
   ]
  },
  {
   "cell_type": "code",
   "execution_count": null,
   "metadata": {
    "collapsed": true
   },
   "outputs": [],
   "source": [
    "解一：\n",
    "參考https://siddontang.gitbooks.io/leetcode-solution/content/linked_list/linked_list_cycle.html\n",
    "上式可寫成m = n-k，可知若slow從相遇點再走m次，會跟同時從起點出發的slow也走m次，就會在進入點會合\n",
    "總結來說根本不用管m是多少，只要fast slow相遇後，再讓兩個slow相遇的那個點就是進入點"
   ]
  },
  {
   "cell_type": "code",
   "execution_count": null,
   "metadata": {
    "collapsed": true
   },
   "outputs": [],
   "source": [
    "# Definition for singly-linked list.\n",
    "# class ListNode(object):\n",
    "#     def __init__(self, x):\n",
    "#         self.val = x\n",
    "#         self.next = None\n",
    "\n",
    "class Solution(object):\n",
    "    \n",
    "    def detectCycle(self, head):\n",
    "        \"\"\"\n",
    "        :type head: ListNode\n",
    "        :rtype: ListNode\n",
    "        \"\"\"\n",
    "        if head == None:\n",
    "            return None\n",
    "        slow = head.next\n",
    "        if slow == None:\n",
    "            return None\n",
    "        fast = head.next\n",
    "        fast = fast.next\n",
    "        while fast != None:\n",
    "            if fast == slow:\n",
    "                #meeting pt\n",
    "                new_slow = head\n",
    "                while slow != new_slow:\n",
    "                    slow = slow.next\n",
    "                    new_slow = new_slow.next\n",
    "                return slow\n",
    "                \n",
    "            fast = fast.next\n",
    "            if fast == None:\n",
    "                return None\n",
    "            fast = fast.next\n",
    "            slow = slow.next\n",
    "        return None\n",
    "        "
   ]
  },
  {
   "cell_type": "markdown",
   "metadata": {},
   "source": [
    "# 注意\n",
    "比較是否指向同一個object可用is\n",
    "x is y\n",
    "或是比較他們的refernce id\n",
    "id(x)==id(y)\n",
    "但是！！因為python的聰明，會把基本型態值相同的物品給予同一個id，所以他們在python中還是同一個物件\n",
    "\n",
    "例如\n",
    "a=1\n",
    "b=1\n",
    "a==b  #true\n",
    "a is b #true\n",
    "\n",
    "c=\"ab\"\n",
    "d=\"a\"+\"b\"\n",
    "c==d  #true\n",
    "c is d #true\n",
    "\n",
    "e=\"a.\"\n",
    "f=\"a.\"\n",
    "e==f  #true\n",
    "e is f #FALSE"
   ]
  },
  {
   "cell_type": "code",
   "execution_count": null,
   "metadata": {
    "collapsed": true
   },
   "outputs": [],
   "source": [
    "整理一下\n",
    "obj1==obj2\n",
    "obj1.__eq__(obj2)  #上面兩個等效，只是下面的可以自己實作比較方式\n",
    "#事實上，當寫出==時，python是呼叫該類別的 __eq__()方法來執行\n",
    "obj1 is obj2  #比較兩個是否指向同一個物件"
   ]
  }
 ],
 "metadata": {
  "kernelspec": {
   "display_name": "Python 3",
   "language": "python",
   "name": "python3"
  },
  "language_info": {
   "codemirror_mode": {
    "name": "ipython",
    "version": 3
   },
   "file_extension": ".py",
   "mimetype": "text/x-python",
   "name": "python",
   "nbconvert_exporter": "python",
   "pygments_lexer": "ipython3",
   "version": "3.6.1"
  }
 },
 "nbformat": 4,
 "nbformat_minor": 2
}
