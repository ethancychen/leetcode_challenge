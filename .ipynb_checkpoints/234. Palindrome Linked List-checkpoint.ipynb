{
 "cells": [
  {
   "cell_type": "markdown",
   "metadata": {},
   "source": [
    "Given a singly linked list, determine if it is a palindrome.\n",
    "\n",
    "Follow up:\n",
    "Could you do it in O(n) time and O(1) space?"
   ]
  },
  {
   "cell_type": "markdown",
   "metadata": {
    "collapsed": true
   },
   "source": [
    "解法：共經歷list兩輪，第一輪找到總node數，第二輪把前半段反轉，到中間時開始比較前半段跟後半段"
   ]
  },
  {
   "cell_type": "code",
   "execution_count": 8,
   "metadata": {},
   "outputs": [],
   "source": [
    "# Definition for singly-linked list.\n",
    "# class ListNode(object):\n",
    "#     def __init__(self, x):\n",
    "#         self.val = x\n",
    "#         self.next = None\n",
    "\n",
    "class Solution(object):\n",
    "    def isPalindrome(self, head):\n",
    "        \"\"\"\n",
    "        :type head: ListNode\n",
    "        :rtype: bool\n",
    "        \"\"\"\n",
    "        if head == None:\n",
    "            return True\n",
    "        # step 1 find length\n",
    "        cur = head\n",
    "        length = 1\n",
    "        while(cur.next != None):\n",
    "            cur = cur.next\n",
    "            length+=1\n",
    "        if length == 1:\n",
    "            return True\n",
    "        \n",
    "        #step 2 reverse front half\n",
    "        cur = head\n",
    "        previous = None\n",
    "        preceding = cur.next\n",
    "        for i in range(int(length/2)):\n",
    "            cur.next = previous\n",
    "            previous = cur\n",
    "            cur = preceding\n",
    "            preceding = preceding.next\n",
    "            \n",
    "        #step 3 start checking Palindrome\n",
    "        if length %2 ==0:\n",
    "            p1 = previous\n",
    "            p2 = cur\n",
    "        else:\n",
    "            p1 = previous\n",
    "            p2 = preceding\n",
    "        while(p1!=None):\n",
    "            if p1.val != p2.val:\n",
    "                return False\n",
    "            p1 = p1.next\n",
    "            p2 = p2.next\n",
    "        return True"
   ]
  },
  {
   "cell_type": "markdown",
   "metadata": {},
   "source": [
    "另解：不用計算length，可以用fast slow runner法找中間，fast每次走兩步，當fast跑到終點時，slow就指著中間了，然後就可以開始reverse first half，直到中間為止"
   ]
  }
 ],
 "metadata": {
  "kernelspec": {
   "display_name": "Python 3",
   "language": "python",
   "name": "python3"
  },
  "language_info": {
   "codemirror_mode": {
    "name": "ipython",
    "version": 3
   },
   "file_extension": ".py",
   "mimetype": "text/x-python",
   "name": "python",
   "nbconvert_exporter": "python",
   "pygments_lexer": "ipython3",
   "version": "3.6.1"
  }
 },
 "nbformat": 4,
 "nbformat_minor": 2
}
