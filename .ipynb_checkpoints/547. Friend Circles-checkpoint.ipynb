{
 "cells": [
  {
   "cell_type": "markdown",
   "metadata": {},
   "source": [
    "There are N students in a class. Some of them are friends, while some are not. Their friendship is transitive in nature. For example, if A is a direct friend of B, and B is a direct friend of C, then A is an indirect friend of C. And we defined a friend circle is a group of students who are direct or indirect friends.\n",
    "\n",
    "Given a N*N matrix M representing the friend relationship between students in the class. If M[i][j] = 1, then the ith and jth students are direct friends with each other, otherwise not. And you have to output the total number of friend circles among all the students.\n",
    "\n",
    "Example 1:\n",
    "Input: \n",
    "[[1,1,0],\n",
    " [1,1,0],\n",
    " [0,0,1]]\n",
    "Output: 2\n",
    "Explanation:The 0th and 1st students are direct friends, so they are in a friend circle. \n",
    "The 2nd student himself is in a friend circle. So return 2.\n",
    "Example 2:\n",
    "Input: \n",
    "[[1,1,0],\n",
    " [1,1,1],\n",
    " [0,1,1]]\n",
    "Output: 1\n",
    "Explanation:The 0th and 1st students are direct friends, the 1st and 2nd students are direct friends, \n",
    "so the 0th and 2nd students are indirect friends. All of them are in the same friend circle, so return 1.\n",
    "Note:\n",
    "N is in range [1,200].\n",
    "M[i][i] = 1 for all students.\n",
    "If M[i][j] = 1, then M[j][i] = 1."
   ]
  },
  {
   "cell_type": "code",
   "execution_count": null,
   "metadata": {
    "collapsed": true
   },
   "outputs": [],
   "source": [
    "阿就看總共執行了幾次DFS或BFS就好了\n",
    "題目的表示方式剛好就是adj matrix"
   ]
  },
  {
   "cell_type": "code",
   "execution_count": 61,
   "metadata": {
    "collapsed": true
   },
   "outputs": [],
   "source": [
    "\n",
    "class Solution(object):\n",
    "    def findCircleNum(self, M):\n",
    "        \"\"\"\n",
    "        :type M: List[List[int]]\n",
    "        :rtype: int\n",
    "        \"\"\"\n",
    "        import numpy as np\n",
    "        \n",
    "        queue = []\n",
    "        N = len(M)\n",
    "        visited = [False] * N\n",
    "        groupnum = 0        \n",
    "        while(sum(visited)!=N):\n",
    "            groupnum +=1 \n",
    "            firstnode = visited.index(False)\n",
    "            queue.insert(0,firstnode)\n",
    "            visited[firstnode] = True\n",
    "            while(queue!=[]):\n",
    "                node = queue.pop(0)          \n",
    "                unvisited_neighbor = np.where( (np.array(M[node])==1) & (np.array(visited)==False) )[0].tolist()\n",
    "                #print(unvisited_neighbor)\n",
    "                for i in unvisited_neighbor:\n",
    "                    visited[i]=True\n",
    "                #print(visited)\n",
    "                queue+= unvisited_neighbor\n",
    "        return groupnum\n"
   ]
  },
  {
   "cell_type": "code",
   "execution_count": 62,
   "metadata": {},
   "outputs": [
    {
     "name": "stdout",
     "output_type": "stream",
     "text": [
      "[True, True, False]\n",
      "[True, True, True]\n",
      "[True, True, True]\n"
     ]
    },
    {
     "data": {
      "text/plain": [
       "1"
      ]
     },
     "execution_count": 62,
     "metadata": {},
     "output_type": "execute_result"
    }
   ],
   "source": [
    "a = Solution()\n",
    "a.findCircleNum(M)\n"
   ]
  },
  {
   "cell_type": "code",
   "execution_count": 1,
   "metadata": {
    "collapsed": true
   },
   "outputs": [],
   "source": [
    "M = [[1,1,0],\\\n",
    " [1,1,1],\\\n",
    " [0,1,1]]"
   ]
  },
  {
   "cell_type": "code",
   "execution_count": 51,
   "metadata": {},
   "outputs": [
    {
     "data": {
      "text/plain": [
       "2"
      ]
     },
     "execution_count": 51,
     "metadata": {},
     "output_type": "execute_result"
    }
   ],
   "source": [
    "sum([True,False, True])"
   ]
  },
  {
   "cell_type": "code",
   "execution_count": 36,
   "metadata": {},
   "outputs": [
    {
     "data": {
      "text/plain": [
       "[0, 1]"
      ]
     },
     "execution_count": 36,
     "metadata": {},
     "output_type": "execute_result"
    }
   ],
   "source": [
    "np.where(np.array(M[0])==1 and np.array([True, False, True]) )[0].tolist()"
   ]
  },
  {
   "cell_type": "code",
   "execution_count": 31,
   "metadata": {},
   "outputs": [],
   "source": [
    "b=[1,2,3]"
   ]
  },
  {
   "cell_type": "code",
   "execution_count": 58,
   "metadata": {},
   "outputs": [
    {
     "data": {
      "text/plain": [
       "array([False,  True], dtype=bool)"
      ]
     },
     "execution_count": 58,
     "metadata": {},
     "output_type": "execute_result"
    }
   ],
   "source": [
    "np.array([True,False])==False"
   ]
  },
  {
   "cell_type": "markdown",
   "metadata": {},
   "source": [
    "# 注意"
   ]
  },
  {
   "cell_type": "markdown",
   "metadata": {},
   "source": [
    "要使用element wise可以用map和zip\n",
    "\n",
    "map(funct,x,y)\n",
    "\n",
    "zip可以把兩條list每個element並在一起\n",
    "> x = [1, 2, 3]\n",
    "> y = [4, 5, 6]\n",
    "> zipped = zip(x, y)\n",
    "> zipped\n",
    "[(1, 4), (2, 5), (3, 6)]\n",
    "https://stackoverflow.com/questions/18713321/element-wise-addition-of-2-lists"
   ]
  },
  {
   "cell_type": "code",
   "execution_count": null,
   "metadata": {
    "collapsed": true
   },
   "outputs": [],
   "source": [
    "BFS (adj matrix版本)\n",
    "#建立一個queue。 \n",
    "#全部的點都初始化為尚未遍歷\n",
    "#把起點放入queue。\n",
    "#開始loop:\n",
    "#  重複下述兩點，直到queue裡面沒有東西為止：\n",
    "#     甲、從queue當中取出一點。\n",
    "#     乙、找出跟此點相鄰的點，並且尚未遍歷的點，"
   ]
  },
  {
   "cell_type": "code",
   "execution_count": null,
   "metadata": {
    "collapsed": true
   },
   "outputs": [],
   "source": [
    "list.append()單一物件\n",
    "如果要接上另一個list，可用\n",
    "list += appendlist\n"
   ]
  },
  {
   "cell_type": "markdown",
   "metadata": {},
   "source": [
    "python原生的list沒有elementwise，numpy有\n",
    "而且不要用 and/or，要用*或&\n",
    "np.array(M[0])==1 * np.array([True, False, True])"
   ]
  }
 ],
 "metadata": {
  "kernelspec": {
   "display_name": "Python 3",
   "language": "python",
   "name": "python3"
  },
  "language_info": {
   "codemirror_mode": {
    "name": "ipython",
    "version": 3
   },
   "file_extension": ".py",
   "mimetype": "text/x-python",
   "name": "python",
   "nbconvert_exporter": "python",
   "pygments_lexer": "ipython3",
   "version": "3.6.1"
  }
 },
 "nbformat": 4,
 "nbformat_minor": 2
}
