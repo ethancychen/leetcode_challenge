{
 "cells": [
  {
   "cell_type": "markdown",
   "metadata": {},
   "source": [
    "A sequence of number is called arithmetic if it consists of at least three elements and if the difference between any two consecutive elements is the same.\n",
    "\n",
    "For example, these are arithmetic sequence:\n",
    "\n",
    "1, 3, 5, 7, 9\n",
    "7, 7, 7, 7\n",
    "3, -1, -5, -9\n",
    "The following sequence is not arithmetic.\n",
    "\n",
    "1, 1, 2, 5, 7\n",
    "\n",
    "A zero-indexed array A consisting of N numbers is given. A slice of that array is any pair of integers (P, Q) such that 0 <= P < Q < N.\n",
    "\n",
    "A slice (P, Q) of array A is called arithmetic if the sequence:\n",
    "A[P], A[p + 1], ..., A[Q - 1], A[Q] is arithmetic. In particular, this means that P + 1 < Q.\n",
    "\n",
    "The function should return the number of arithmetic slices in the array A.\n",
    "\n",
    "\n",
    "Example:\n",
    "\n",
    "A = [1, 2, 3, 4]\n",
    "\n",
    "return: 3, for 3 arithmetic slices in A: [1, 2, 3], [2, 3, 4] and [1, 2, 3, 4] itself."
   ]
  },
  {
   "cell_type": "code",
   "execution_count": null,
   "metadata": {},
   "outputs": [],
   "source": [
    "解一：解答把這個叫做公式解\n",
    "等差數列？\n",
    "就先把1階差數列弄出來\n",
    "然後對於每種連續的公差，算出有幾個"
   ]
  },
  {
   "cell_type": "code",
   "execution_count": 9,
   "metadata": {},
   "outputs": [],
   "source": [
    "class Solution:\n",
    "    def numberOfArithmeticSlices(self, A):\n",
    "        \"\"\"\n",
    "        :type A: List[int]\n",
    "        :rtype: int\n",
    "        \"\"\"\n",
    "        oneDiff = [ A[i]-A[i-1] for i in range(1,len(A))]\n",
    "        \n",
    "        re = 0\n",
    "        start = 0\n",
    "        for i in range(1,len(oneDiff)):\n",
    "            if oneDiff[i]!=oneDiff[i-1]:\n",
    "                length = i-start\n",
    "                start = i\n",
    "                re += length*(length-1)/2\n",
    "        re+=(len(oneDiff)-start)*(len(oneDiff)-1-start)/2\n",
    "        return int(re)"
   ]
  },
  {
   "cell_type": "code",
   "execution_count": null,
   "metadata": {},
   "outputs": [],
   "source": [
    "解二：DP結合公式解\n",
    "loop through 1次而已，紀錄現在這個等差有多少個連續公差(count)，然後依照組合公式算出這麼長的等差有幾種子組合"
   ]
  },
  {
   "cell_type": "code",
   "execution_count": 21,
   "metadata": {},
   "outputs": [],
   "source": [
    "class Solution:\n",
    "    def numberOfArithmeticSlices(self, A):\n",
    "        \"\"\"\n",
    "        :type A: List[int]\n",
    "        :rtype: int\n",
    "        \"\"\"\n",
    "        count = 0\n",
    "        s = 0\n",
    "        for i in range(2,len(A)):\n",
    "            \n",
    "            if (A[i] - A[i - 1] == A[i - 1] - A[i - 2]):\n",
    "                count+=1\n",
    "            else:\n",
    "                s += (count + 1) * (count) / 2\n",
    "                count = 0\n",
    "        s+=count * (count + 1) / 2\n",
    "        return s\n"
   ]
  },
  {
   "cell_type": "code",
   "execution_count": 23,
   "metadata": {},
   "outputs": [
    {
     "data": {
      "text/plain": [
       "9.0"
      ]
     },
     "execution_count": 23,
     "metadata": {},
     "output_type": "execute_result"
    }
   ],
   "source": [
    "Solution().numberOfArithmeticSlices([1, 3, 5, 7, 9,10,11,12])"
   ]
  },
  {
   "cell_type": "code",
   "execution_count": null,
   "metadata": {},
   "outputs": [],
   "source": []
  }
 ],
 "metadata": {
  "kernelspec": {
   "display_name": "Python 3",
   "language": "python",
   "name": "python3"
  },
  "language_info": {
   "codemirror_mode": {
    "name": "ipython",
    "version": 3
   },
   "file_extension": ".py",
   "mimetype": "text/x-python",
   "name": "python",
   "nbconvert_exporter": "python",
   "pygments_lexer": "ipython3",
   "version": "3.6.1"
  }
 },
 "nbformat": 4,
 "nbformat_minor": 2
}
