{
 "cells": [
  {
   "cell_type": "markdown",
   "metadata": {},
   "source": [
    "You are given a list of non-negative integers, a1, a2, ..., an, and a target, S. Now you have 2 symbols + and -. For each integer, you should choose one from + and - as its new symbol.\n",
    "\n",
    "Find out how many ways to assign symbols to make sum of integers equal to target S.\n",
    "\n",
    "Example 1:\n",
    "Input: nums is [1, 1, 1, 1, 1], S is 3. \n",
    "Output: 5\n",
    "Explanation: \n",
    "\n",
    "-1+1+1+1+1 = 3\n",
    "+1-1+1+1+1 = 3\n",
    "+1+1-1+1+1 = 3\n",
    "+1+1+1-1+1 = 3\n",
    "+1+1+1+1-1 = 3\n",
    "\n",
    "There are 5 ways to assign symbols to make the sum of nums be target 3.\n",
    "Note:\n",
    "The length of the given array is positive and will not exceed 20.\n",
    "The sum of elements in the given array will not exceed 1000.\n",
    "Your output answer is guaranteed to be fitted in a 32-bit integer."
   ]
  },
  {
   "cell_type": "code",
   "execution_count": null,
   "metadata": {},
   "outputs": [],
   "source": [
    "法一：暴力法DFS (TLE)"
   ]
  },
  {
   "cell_type": "code",
   "execution_count": 11,
   "metadata": {},
   "outputs": [],
   "source": [
    "class Solution(object):\n",
    "    def findTargetSumWays(self, nums, S):\n",
    "        \"\"\"\n",
    "        :type nums: List[int]\n",
    "        :type S: int\n",
    "        :rtype: int\n",
    "        \"\"\"\n",
    "        self.nums = nums\n",
    "        \n",
    "        return self.deeper(depth = 0,sign=1,target = S) + self.deeper(depth = 0,sign=-1,target = S)\n",
    "       \n",
    "    def deeper(self,depth,sign,target):\n",
    "        if depth == len(self.nums)-1:\n",
    "            if self.nums[depth] * sign == target:\n",
    "                return 1\n",
    "            else:\n",
    "                return 0\n",
    "        target+=sign * self.nums[depth]\n",
    "        return self.deeper(sign = 1,depth = depth+1,target = target)+self.deeper(sign = -1,depth = depth+1,target = target)"
   ]
  },
  {
   "cell_type": "code",
   "execution_count": null,
   "metadata": {},
   "outputs": [],
   "source": [
    "改良的暴力法：上面乘法太花資源，改成直接用加減"
   ]
  },
  {
   "cell_type": "code",
   "execution_count": null,
   "metadata": {},
   "outputs": [],
   "source": [
    "法二：2D dynamic programming，x軸加,y軸減"
   ]
  },
  {
   "cell_type": "code",
   "execution_count": 63,
   "metadata": {},
   "outputs": [
    {
     "name": "stdout",
     "output_type": "stream",
     "text": [
      "[[0 0 0 0]\n",
      " [0 0 0 0]\n",
      " [0 0 0 0]\n",
      " [0 0 0 0]]\n",
      "[[0 0 0 0]\n",
      " [0 0 0 0]\n",
      " [0 0 0 0]\n",
      " [0 0 0 0]]\n"
     ]
    }
   ],
   "source": [
    "a = Solution()\n",
    "a.findTargetSumWays([0]*3,0)"
   ]
  },
  {
   "cell_type": "code",
   "execution_count": 52,
   "metadata": {},
   "outputs": [],
   "source": [
    "import numpy as np\n",
    "b=np.array([([0]*3)]*3)"
   ]
  },
  {
   "cell_type": "markdown",
   "metadata": {},
   "source": [
    "# 注意"
   ]
  },
  {
   "cell_type": "code",
   "execution_count": 61,
   "metadata": {},
   "outputs": [
    {
     "data": {
      "text/plain": [
       "[1, 2]"
      ]
     },
     "execution_count": 61,
     "metadata": {},
     "output_type": "execute_result"
    }
   ],
   "source": [
    "#numpy array可以批次更改值\n",
    "k=np.array([1,2,3])\n",
    "k[1:3] = [2,3]\n",
    "#numpy 的2維取用要用逗號 a[0,1]\n",
    "\n",
    "#注意是 start:stop:step，不包含stop，也就是說要取到最後一個elment就[start:]就好了，stop填上-1反而不會包含最後一個element\n"
   ]
  },
  {
   "cell_type": "code",
   "execution_count": null,
   "metadata": {},
   "outputs": [],
   "source": []
  }
 ],
 "metadata": {
  "kernelspec": {
   "display_name": "Python 3",
   "language": "python",
   "name": "python3"
  },
  "language_info": {
   "codemirror_mode": {
    "name": "ipython",
    "version": 3
   },
   "file_extension": ".py",
   "mimetype": "text/x-python",
   "name": "python",
   "nbconvert_exporter": "python",
   "pygments_lexer": "ipython3",
   "version": "3.6.1"
  }
 },
 "nbformat": 4,
 "nbformat_minor": 2
}
