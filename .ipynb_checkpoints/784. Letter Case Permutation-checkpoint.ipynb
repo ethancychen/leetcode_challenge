{
 "cells": [
  {
   "cell_type": "code",
   "execution_count": null,
   "metadata": {
    "collapsed": true
   },
   "outputs": [],
   "source": [
    "Given a string S, we can transform every letter individually to be lowercase or uppercase to create another string.  Return a list of all possible strings we could create.\n",
    "\n",
    "Examples:\n",
    "Input: S = \"a1b2\"\n",
    "Output: [\"a1b2\", \"a1B2\", \"A1b2\", \"A1B2\"]\n",
    "\n",
    "Input: S = \"3z4\"\n",
    "Output: [\"3z4\", \"3Z4\"]\n",
    "\n",
    "Input: S = \"12345\"\n",
    "Output: [\"12345\"]\n",
    "Note:\n",
    "\n",
    "S will be a string with length at most 12.\n",
    "S will consist only of letters or digits."
   ]
  },
  {
   "cell_type": "code",
   "execution_count": null,
   "metadata": {
    "collapsed": true
   },
   "outputs": [],
   "source": [
    "想法：製造出[True,False, True...]的list來決定各個char是否要convert case，排列的製造方法為二進位"
   ]
  },
  {
   "cell_type": "code",
   "execution_count": 94,
   "metadata": {},
   "outputs": [],
   "source": [
    "class Solution:\n",
    "    def letterCasePermutation(self, S):\n",
    "        \"\"\"\n",
    "        :type S: str\n",
    "        :rtype: List[str]\n",
    "        \"\"\"\n",
    "        import re\n",
    "        alphabets = re.findall(\"[a-zA-z]\", S)\n",
    "        \n",
    "        l = []#output list\n",
    "        for i in range(2**(len(alphabets))):\n",
    "            convert = list(map(lambda x: x=='1',list(bin(i)[2:].zfill(len(alphabets)))))\n",
    "            #print(convert)\n",
    "            temp = \"\"\n",
    "            alphacount = 0\n",
    "            for j in range(len(S)):\n",
    "                if S[j].isdigit():\n",
    "                    temp += S[j]\n",
    "                else:\n",
    "                    if convert[alphacount]:\n",
    "                        if S[j].islower():\n",
    "                            temp += S[j].upper()\n",
    "                        else:\n",
    "                            temp += S[j].lower()\n",
    "                    else:\n",
    "                        temp += S[j]\n",
    "                    alphacount += 1\n",
    "            l.append(temp)\n",
    "        return l\n",
    "        "
   ]
  },
  {
   "cell_type": "code",
   "execution_count": 96,
   "metadata": {},
   "outputs": [
    {
     "name": "stdout",
     "output_type": "stream",
     "text": [
      "[False]\n",
      "[True]\n"
     ]
    },
    {
     "data": {
      "text/plain": [
       "['C', 'c']"
      ]
     },
     "execution_count": 96,
     "metadata": {},
     "output_type": "execute_result"
    }
   ],
   "source": [
    "a= Solution()\n",
    "a.letterCasePermutation(\"C\")"
   ]
  },
  {
   "cell_type": "code",
   "execution_count": null,
   "metadata": {
    "collapsed": true
   },
   "outputs": [],
   "source": [
    "另解：binary tree DFS，對於遇到一個字母，都會有兩個child，一個代表lowercase一個代表uppercase"
   ]
  },
  {
   "cell_type": "code",
   "execution_count": null,
   "metadata": {
    "collapsed": true
   },
   "outputs": [],
   "source": [
    "class Solution(object):\n",
    "    def letterCasePermutation(self, S):\n",
    "        \"\"\"\n",
    "        :type S: str\n",
    "        :rtype: List[str]\n",
    "        \"\"\"\n",
    "        ans = []\n",
    "\n",
    "        def dfs(S, pos, str):\n",
    "            if pos == len(S):\n",
    "                ans.append(str)\n",
    "                return\n",
    "            else:\n",
    "                if S[pos].isalpha():\n",
    "                    letter = S[pos]\n",
    "                    dfs(S, pos + 1, str + letter.upper())\n",
    "                    dfs(S, pos + 1, str + letter.lower())\n",
    "                else:\n",
    "                    dfs(S, pos + 1, str + S[pos])\n",
    "        dfs(S, 0, '')\n",
    "        return ans"
   ]
  },
  {
   "cell_type": "code",
   "execution_count": null,
   "metadata": {
    "collapsed": true
   },
   "outputs": [],
   "source": [
    "另解：使用python的排列工具來製造True,False convert list"
   ]
  },
  {
   "cell_type": "code",
   "execution_count": null,
   "metadata": {
    "collapsed": true
   },
   "outputs": [],
   "source": [
    "from itertools import permutations\n",
    "    perms = [''.join(p) for p in permutations(word)]\n"
   ]
  },
  {
   "cell_type": "markdown",
   "metadata": {},
   "source": [
    "# 注意"
   ]
  },
  {
   "cell_type": "code",
   "execution_count": 97,
   "metadata": {
    "scrolled": true
   },
   "outputs": [
    {
     "ename": "NameError",
     "evalue": "name '把數字轉為binary可使用bin' is not defined",
     "output_type": "error",
     "traceback": [
      "\u001b[0;31m---------------------------------------------------------------------------\u001b[0m",
      "\u001b[0;31mNameError\u001b[0m                                 Traceback (most recent call last)",
      "\u001b[0;32m<ipython-input-97-4a8632799576>\u001b[0m in \u001b[0;36m<module>\u001b[0;34m()\u001b[0m\n\u001b[0;32m----> 1\u001b[0;31m \u001b[0m把數字轉為binary可使用bin\u001b[0m\u001b[0;34m(\u001b[0m\u001b[0mnum\u001b[0m\u001b[0;34m)\u001b[0m\u001b[0;34m\u001b[0m\u001b[0m\n\u001b[0m",
      "\u001b[0;31mNameError\u001b[0m: name '把數字轉為binary可使用bin' is not defined"
     ]
    }
   ],
   "source": [
    "把數字轉為binary可使用bin(num)\n",
    "但是會出現字串"
   ]
  },
  {
   "cell_type": "code",
   "execution_count": null,
   "metadata": {
    "collapsed": true
   },
   "outputs": [],
   "source": [
    "python中的string皆為immutable的，也就是\n",
    "雖然可以string[i]來取用特定幾個char\n",
    "但不可以更改string裡面某個char\n",
    "E.g.\n",
    "String[3] = \"2\"  #會error"
   ]
  }
 ],
 "metadata": {
  "kernelspec": {
   "display_name": "Python 3",
   "language": "python",
   "name": "python3"
  },
  "language_info": {
   "codemirror_mode": {
    "name": "ipython",
    "version": 3
   },
   "file_extension": ".py",
   "mimetype": "text/x-python",
   "name": "python",
   "nbconvert_exporter": "python",
   "pygments_lexer": "ipython3",
   "version": "3.6.1"
  }
 },
 "nbformat": 4,
 "nbformat_minor": 2
}
