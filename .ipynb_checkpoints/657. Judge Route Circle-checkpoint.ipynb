{
 "cells": [
  {
   "cell_type": "markdown",
   "metadata": {},
   "source": [
    "Initially, there is a Robot at position (0, 0). Given a sequence of its moves, judge if this robot makes a circle, which means it moves back to the original place.\n",
    "\n",
    "The move sequence is represented by a string. And each move is represent by a character. The valid robot moves are R (Right), L (Left), U (Up) and D (down). The output should be true or false representing whether the robot makes a circle.\n",
    "\n",
    "Example 1:\n",
    "Input: \"UD\"\n",
    "Output: true\n",
    "Example 2:\n",
    "Input: \"LL\"\n",
    "Output: false"
   ]
  },
  {
   "cell_type": "markdown",
   "metadata": {},
   "source": [
    "測試\"UUD\"為Fasle，\"UDU\"亦為False，表示題目要的只是「最後」回到(0,0)，不是判斷有沒有曾經回到原點，也不是判斷是否重複經過路徑上的任一點\n",
    "既然這麼簡單，就單純看#L = #R, #U = #D，可以用stack來做，或是用python的內建.count()直接算\n",
    "註：\n",
    "(1)如果要判斷有沒有經過原點，用stack看有沒有曾經是空的\n",
    "(2)如果要判斷有沒有重複經過路徑上的任意點，即判斷有沒有substring使得該substring中的#L = #R, #U = #D\n"
   ]
  },
  {
   "cell_type": "code",
   "execution_count": 2,
   "metadata": {
    "collapsed": true
   },
   "outputs": [],
   "source": [
    "class Solution(object):\n",
    "    def judgeCircle(self, moves):\n",
    "        \"\"\"\n",
    "        :type moves: str\n",
    "        :rtype: bool\n",
    "        \"\"\"\n",
    "        return moves.count('L') == moves.count('R') and moves.count('U') == moves.count('D')\n",
    "        "
   ]
  }
 ],
 "metadata": {
  "kernelspec": {
   "display_name": "Python 3",
   "language": "python",
   "name": "python3"
  },
  "language_info": {
   "codemirror_mode": {
    "name": "ipython",
    "version": 3
   },
   "file_extension": ".py",
   "mimetype": "text/x-python",
   "name": "python",
   "nbconvert_exporter": "python",
   "pygments_lexer": "ipython3",
   "version": "3.6.1"
  }
 },
 "nbformat": 4,
 "nbformat_minor": 2
}
