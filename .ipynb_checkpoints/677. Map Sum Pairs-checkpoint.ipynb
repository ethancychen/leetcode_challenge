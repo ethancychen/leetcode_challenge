{
 "cells": [
  {
   "cell_type": "markdown",
   "metadata": {},
   "source": [
    "Implement a MapSum class with insert, and sum methods.\n",
    "\n",
    "For the method insert, you'll be given a pair of (string, integer). The string represents the key and the integer represents the value. If the key already existed, then the original key-value pair will be overridden to the new one.\n",
    "\n",
    "For the method sum, you'll be given a string representing the prefix, and you need to return the sum of all the pairs' value whose key starts with the prefix.\n",
    "\n",
    "Example 1:\n",
    "Input: insert(\"apple\", 3), Output: Null\n",
    "Input: sum(\"ap\"), Output: 3\n",
    "Input: insert(\"app\", 2), Output: Null\n",
    "Input: sum(\"ap\"), Output: 5"
   ]
  },
  {
   "cell_type": "code",
   "execution_count": 53,
   "metadata": {},
   "outputs": [],
   "source": [
    "class MapSum:\n",
    "\n",
    "    def __init__(self):\n",
    "        \"\"\"\n",
    "        Initialize your data structure here.\n",
    "        \"\"\"\n",
    "        self.d = dict()\n",
    "        \n",
    "\n",
    "    def insert(self, key, val):\n",
    "        \"\"\"\n",
    "        :type key: str\n",
    "        :type val: int\n",
    "        :rtype: void\n",
    "        \"\"\"\n",
    "        self.d[key] = val\n",
    "        \n",
    "\n",
    "    def sum(self, prefix):\n",
    "        \"\"\"\n",
    "        :type prefix: str\n",
    "        :rtype: int\n",
    "        \"\"\"\n",
    "        keys = self.d.keys()\n",
    "        c = 0\n",
    "        for k in keys:\n",
    "            if k[:len(prefix)]==prefix:\n",
    "                c+=self.d[k]\n",
    "        return c\n",
    "        \n",
    "\n",
    "\n",
    "# Your MapSum object will be instantiated and called as such:\n",
    "# obj = MapSum()\n",
    "# obj.insert(key,val)\n",
    "# param_2 = obj.sum(prefix)"
   ]
  },
  {
   "cell_type": "code",
   "execution_count": 54,
   "metadata": {},
   "outputs": [],
   "source": [
    "a= MapSum()\n",
    "a.insert(\"apple\", 3)"
   ]
  },
  {
   "cell_type": "code",
   "execution_count": 55,
   "metadata": {},
   "outputs": [
    {
     "data": {
      "text/plain": [
       "3"
      ]
     },
     "execution_count": 55,
     "metadata": {},
     "output_type": "execute_result"
    }
   ],
   "source": [
    "a.sum('ap')"
   ]
  },
  {
   "cell_type": "code",
   "execution_count": null,
   "metadata": {},
   "outputs": [],
   "source": []
  },
  {
   "cell_type": "code",
   "execution_count": null,
   "metadata": {},
   "outputs": [],
   "source": []
  }
 ],
 "metadata": {
  "kernelspec": {
   "display_name": "Python 3",
   "language": "python",
   "name": "python3"
  },
  "language_info": {
   "codemirror_mode": {
    "name": "ipython",
    "version": 3
   },
   "file_extension": ".py",
   "mimetype": "text/x-python",
   "name": "python",
   "nbconvert_exporter": "python",
   "pygments_lexer": "ipython3",
   "version": "3.6.1"
  }
 },
 "nbformat": 4,
 "nbformat_minor": 2
}
