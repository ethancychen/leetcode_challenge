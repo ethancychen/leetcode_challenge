{
 "cells": [
  {
   "cell_type": "markdown",
   "metadata": {},
   "source": [
    "Given a binary search tree and the lowest and highest boundaries as L and R, trim the tree so that all its elements lies in [L, R] (R >= L). You might need to change the root of the tree, so the result should return the new root of the trimmed binary search tree.\n",
    "\n",
    "Example 1:\n",
    "Input: \n",
    "    1\n",
    "   / \\\n",
    "  0   2\n",
    "\n",
    "  L = 1\n",
    "  R = 2\n",
    "\n",
    "Output: \n",
    "    1\n",
    "      \\\n",
    "       2\n",
    "Example 2:\n",
    "Input: \n",
    "    3\n",
    "   / \\\n",
    "  0   4\n",
    "   \\\n",
    "    2\n",
    "   /\n",
    "  1\n",
    "\n",
    "  L = 1\n",
    "  R = 3\n",
    "\n",
    "Output: \n",
    "      3\n",
    "     / \n",
    "   2   \n",
    "  /\n",
    " 1"
   ]
  },
  {
   "cell_type": "code",
   "execution_count": null,
   "metadata": {},
   "outputs": [],
   "source": [
    "對於每一個node，都一定要被L,R區間包覆，不然就要拿掉\n",
    "三種狀況\n",
    "1.val < L:把右邊接到自己的parent\n",
    "2.val > R:把左邊接到自己的parent\n",
    "3.L<val<R:繼續找，如果沒有child就return"
   ]
  },
  {
   "cell_type": "code",
   "execution_count": 2,
   "metadata": {},
   "outputs": [],
   "source": [
    "# Definition for a binary tree node.\n",
    "# class TreeNode:\n",
    "#     def __init__(self, x):\n",
    "#         self.val = x\n",
    "#         self.left = None\n",
    "#         self.right = None\n",
    "\n",
    "class Solution:\n",
    "    def trimBST(self, root, L, R):\n",
    "        \"\"\"\n",
    "        :type root: TreeNode\n",
    "        :type L: int\n",
    "        :type R: int\n",
    "        :rtype: TreeNode\n",
    "        \"\"\"\n",
    "        if root == None:\n",
    "            return\n",
    "        elif root.val > R:\n",
    "            return self.trimBST(root.left, L, R)\n",
    "        elif root.val < L:\n",
    "            return self.trimBST(root.right,L,R)\n",
    "        else:\n",
    "            root.left = self.trimBST(root.left, L, R)\n",
    "            root.right = self.trimBST(root.right,L,R)\n",
    "            return root\n",
    "            \n",
    "        "
   ]
  },
  {
   "cell_type": "code",
   "execution_count": null,
   "metadata": {},
   "outputs": [],
   "source": []
  }
 ],
 "metadata": {
  "kernelspec": {
   "display_name": "Python 3",
   "language": "python",
   "name": "python3"
  },
  "language_info": {
   "codemirror_mode": {
    "name": "ipython",
    "version": 3
   },
   "file_extension": ".py",
   "mimetype": "text/x-python",
   "name": "python",
   "nbconvert_exporter": "python",
   "pygments_lexer": "ipython3",
   "version": "3.6.1"
  }
 },
 "nbformat": 4,
 "nbformat_minor": 2
}
