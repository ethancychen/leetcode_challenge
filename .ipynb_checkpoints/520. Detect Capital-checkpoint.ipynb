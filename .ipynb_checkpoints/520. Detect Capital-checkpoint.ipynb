{
 "cells": [
  {
   "cell_type": "markdown",
   "metadata": {},
   "source": [
    "Given a word, you need to judge whether the usage of capitals in it is right or not.\n",
    "\n",
    "We define the usage of capitals in a word to be right when one of the following cases holds:\n",
    "\n",
    "All letters in this word are capitals, like \"USA\".\n",
    "All letters in this word are not capitals, like \"leetcode\".\n",
    "Only the first letter in this word is capital if it has more than one letter, like \"Google\".\n",
    "Otherwise, we define that this word doesn't use capitals in a right way.\n",
    "Example 1:\n",
    "Input: \"USA\"\n",
    "Output: True\n",
    "Example 2:\n",
    "Input: \"FlaG\"\n",
    "Output: False\n",
    "Note: The input will be a non-empty word consisting of uppercase and lowercase latin letters."
   ]
  },
  {
   "cell_type": "markdown",
   "metadata": {},
   "source": [
    "解一：\n",
    "使用ascii判斷\n",
    "第一個字，大於ord('z')或小於ord('A')\n",
    "case1小於ord('A')，接下來幾個字全部都得小於ord('A')\n",
    "case2大於ord('z')接下來幾個字都小寫，或全都大寫"
   ]
  },
  {
   "cell_type": "code",
   "execution_count": 15,
   "metadata": {},
   "outputs": [],
   "source": [
    "class Solution:\n",
    "    def detectCapitalUse(self, word):\n",
    "        \"\"\"\n",
    "        :type word: str\n",
    "        :rtype: bool\n",
    "        \"\"\"\n",
    "        if len(word)==1:\n",
    "            return True\n",
    "        if(ord(word[0])-ord('a')>=0):#first lower\n",
    "            for i in range(1,len(word)):\n",
    "                if ord(word[i])-ord('a')<0: # any of rest upper\n",
    "                    return False\n",
    "        else:#first upper\n",
    "            if ord(word[1])-ord('a')>=0:#second lower\n",
    "                for i in range(2,len(word)):\n",
    "                    if ord(word[i])-ord('a')<0:# any of rest upper\n",
    "                        return False\n",
    "            else:# second upper\n",
    "                for i in range(2,len(word)):\n",
    "                    if ord(word[i])-ord('a')>=0: #any of rest lower\n",
    "                        return False\n",
    "        return True\n",
    "        "
   ]
  },
  {
   "cell_type": "code",
   "execution_count": 16,
   "metadata": {},
   "outputs": [
    {
     "data": {
      "text/plain": [
       "False"
      ]
     },
     "execution_count": 16,
     "metadata": {},
     "output_type": "execute_result"
    }
   ],
   "source": []
  },
  {
   "cell_type": "code",
   "execution_count": 10,
   "metadata": {},
   "outputs": [
    {
     "data": {
      "text/plain": [
       "43"
      ]
     },
     "execution_count": 10,
     "metadata": {},
     "output_type": "execute_result"
    }
   ],
   "source": [
    "ord('l')-ord('A')"
   ]
  },
  {
   "cell_type": "code",
   "execution_count": 11,
   "metadata": {},
   "outputs": [
    {
     "data": {
      "text/plain": [
       "108"
      ]
     },
     "execution_count": 11,
     "metadata": {},
     "output_type": "execute_result"
    }
   ],
   "source": [
    "ord('l')"
   ]
  },
  {
   "cell_type": "code",
   "execution_count": 12,
   "metadata": {},
   "outputs": [
    {
     "data": {
      "text/plain": [
       "65"
      ]
     },
     "execution_count": 12,
     "metadata": {},
     "output_type": "execute_result"
    }
   ],
   "source": [
    "ord('A')"
   ]
  },
  {
   "cell_type": "code",
   "execution_count": null,
   "metadata": {},
   "outputs": [],
   "source": []
  }
 ],
 "metadata": {
  "kernelspec": {
   "display_name": "Python 3",
   "language": "python",
   "name": "python3"
  },
  "language_info": {
   "codemirror_mode": {
    "name": "ipython",
    "version": 3
   },
   "file_extension": ".py",
   "mimetype": "text/x-python",
   "name": "python",
   "nbconvert_exporter": "python",
   "pygments_lexer": "ipython3",
   "version": "3.6.1"
  }
 },
 "nbformat": 4,
 "nbformat_minor": 2
}
