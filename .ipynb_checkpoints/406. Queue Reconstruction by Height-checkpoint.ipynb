{
 "cells": [
  {
   "cell_type": "markdown",
   "metadata": {},
   "source": [
    "Suppose you have a random list of people standing in a queue. Each person is described by a pair of integers (h, k), where h is the height of the person and k is the number of people in front of this person who have a height greater than or equal to h. Write an algorithm to reconstruct the queue.\n",
    "\n",
    "Note:\n",
    "The number of people is less than 1,100.\n",
    "\n",
    "\n",
    "Example\n",
    "\n",
    "Input:\n",
    "[[7,0], [4,4], [7,1], [5,0], [6,1], [5,2]]\n",
    "\n",
    "Output:\n",
    "[[5,0], [7,0], [5,2], [6,1], [4,4], [7,1]]"
   ]
  },
  {
   "cell_type": "code",
   "execution_count": null,
   "metadata": {},
   "outputs": [],
   "source": [
    "題意很難懂，反正就是要讓每個人擺在適當的位子，使得他後面的數字 = 比他高且排在前面的人數\n",
    "想法：對於最矮的人，他的k即顯示位置，因為排在他前面的保證比較高\n",
    "所以做法是這樣\n",
    "(1)先照身高排(不然每次要find min也太麻煩)\n",
    "(2)依次由矮到高排入(屏除之前排過的就是他的index)"
   ]
  },
  {
   "cell_type": "code",
   "execution_count": 145,
   "metadata": {},
   "outputs": [],
   "source": [
    "class Solution(object):\n",
    "    def reconstructQueue(self, people):\n",
    "        \"\"\"\n",
    "        :type people: List[List[int]]\n",
    "        :rtype: List[List[int]]\n",
    "        \"\"\"\n",
    "        import numpy as np\n",
    "        ind = np.array(list(range(len(people))))\n",
    "        people.sort(key = lambda x: x[0])\n",
    "        #print(people)\n",
    "        reind = []\n",
    "        \n",
    "        temp = []\n",
    "        for i in range(len(people)):\n",
    "            #print(reind)\n",
    "            if temp == []:\n",
    "                nowheight = people[i][0]\n",
    "                temp.append(people[i][1])\n",
    "            elif nowheight == people[i][0]:\n",
    "                temp.append(people[i][1])\n",
    "            else:\n",
    "                reind+=[ind[x] for x in temp]\n",
    "                #print(ind)\n",
    "                ind = np.delete(ind, temp)\n",
    "                #print(\"ind:\"+str(ind))\n",
    "                temp = []\n",
    "                nowheight = people[i][0]\n",
    "                temp.append(people[i][1])\n",
    "        reind+=[ind[x] for x in temp]\n",
    "\n",
    "        #print(reind)\n",
    "        \n",
    "        return list(map(lambda y: y[0],sorted(zip(people,reind),key = lambda x: x[1])))\n",
    "            "
   ]
  },
  {
   "cell_type": "code",
   "execution_count": 146,
   "metadata": {},
   "outputs": [
    {
     "name": "stdout",
     "output_type": "stream",
     "text": [
      "[]\n",
      "[]\n",
      "[4]\n",
      "[4]\n",
      "[4, 0, 2]\n",
      "[4, 0, 2, 3]\n",
      "[4, 0, 2, 3, 1, 5]\n"
     ]
    },
    {
     "data": {
      "text/plain": [
       "[[5, 0], [7, 0], [5, 2], [6, 1], [4, 4], [7, 1]]"
      ]
     },
     "execution_count": 146,
     "metadata": {},
     "output_type": "execute_result"
    }
   ],
   "source": [
    "a = Solution()\n",
    "a.reconstructQueue([[7,0], [4,4], [7,1], [5,0], [6,1], [5,2]])"
   ]
  },
  {
   "cell_type": "markdown",
   "metadata": {},
   "source": [
    "# 注意"
   ]
  },
  {
   "cell_type": "code",
   "execution_count": 13,
   "metadata": {},
   "outputs": [
    {
     "data": {
      "text/plain": [
       "[[7, 0], [5, 0], [7, 1], [6, 1], [5, 2], [4, 4]]"
      ]
     },
     "execution_count": 13,
     "metadata": {},
     "output_type": "execute_result"
    }
   ],
   "source": [
    "# 依照每個list中的第i個元素來做排序\n",
    "b = [[7,0], [4,4], [7,1], [5,0], [6,1], [5,2]]\n",
    "b.sort(key=lambda x: x[1])\n",
    "b"
   ]
  },
  {
   "cell_type": "code",
   "execution_count": 60,
   "metadata": {},
   "outputs": [
    {
     "ename": "TypeError",
     "evalue": "list indices must be integers or slices, not tuple",
     "output_type": "error",
     "traceback": [
      "\u001b[0;31m---------------------------------------------------------------------------\u001b[0m",
      "\u001b[0;31mTypeError\u001b[0m                                 Traceback (most recent call last)",
      "\u001b[0;32m<ipython-input-60-e37edbc1a475>\u001b[0m in \u001b[0;36m<module>\u001b[0;34m()\u001b[0m\n\u001b[0;32m----> 1\u001b[0;31m \u001b[0mb\u001b[0m\u001b[0;34m[\u001b[0m\u001b[0;34m(\u001b[0m\u001b[0;36m1\u001b[0m\u001b[0;34m,\u001b[0m\u001b[0;36m2\u001b[0m\u001b[0;34m,\u001b[0m\u001b[0;36m3\u001b[0m\u001b[0;34m)\u001b[0m\u001b[0;34m]\u001b[0m\u001b[0;34m\u001b[0m\u001b[0m\n\u001b[0m",
      "\u001b[0;31mTypeError\u001b[0m: list indices must be integers or slices, not tuple"
     ]
    }
   ],
   "source": [
    "#還是多用點numpy吧，比較能做多個index的運用，而且基本上跟原生的list也相容"
   ]
  }
 ],
 "metadata": {
  "kernelspec": {
   "display_name": "Python 3",
   "language": "python",
   "name": "python3"
  },
  "language_info": {
   "codemirror_mode": {
    "name": "ipython",
    "version": 3
   },
   "file_extension": ".py",
   "mimetype": "text/x-python",
   "name": "python",
   "nbconvert_exporter": "python",
   "pygments_lexer": "ipython3",
   "version": "3.6.1"
  }
 },
 "nbformat": 4,
 "nbformat_minor": 2
}
