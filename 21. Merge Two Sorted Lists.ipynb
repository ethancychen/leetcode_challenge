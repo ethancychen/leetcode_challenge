{
 "cells": [
  {
   "cell_type": "markdown",
   "metadata": {},
   "source": [
    "Merge two sorted linked lists and return it as a new list. The new list should be made by splicing together the nodes of the first two lists.\n",
    "\n",
    "Example:\n",
    "\n",
    "Input: 1->2->4, 1->3->4\n",
    "Output: 1->1->2->3->4->4\n"
   ]
  },
  {
   "cell_type": "code",
   "execution_count": null,
   "metadata": {
    "collapsed": true
   },
   "outputs": [],
   "source": [
    "# Definition for singly-linked list.\n",
    "# class ListNode:\n",
    "#     def __init__(self, x):\n",
    "#         self.val = x\n",
    "#         self.next = None\n",
    "\n",
    "class Solution:\n",
    "    def mergeTwoLists(self, l1, l2):\n",
    "        \"\"\"\n",
    "        :type l1: ListNode\n",
    "        :type l2: ListNode\n",
    "        :rtype: ListNode\n",
    "        \"\"\"\n",
    "        if l1 == None and l2== None:\n",
    "            return None\n",
    "        if l1 == None:\n",
    "            return l2\n",
    "        if l2 == None:\n",
    "            return l1\n",
    "        \n",
    "        if l1.val < l2.val:\n",
    "            head = ListNode(l1.val)\n",
    "            l1 = l1.next\n",
    "        else:\n",
    "            head = ListNode(l2.val)\n",
    "            l2 = l2.next\n",
    "        \n",
    "        cur = head\n",
    "        while(True):\n",
    "            if l1 == None:\n",
    "                cur.next = l2\n",
    "                break\n",
    "            elif l2 == None:\n",
    "                cur.next = l1\n",
    "                break\n",
    "                \n",
    "            if l1.val < l2.val:\n",
    "                cur.next = ListNode(l1.val)\n",
    "                l1 = l1.next\n",
    "            else:\n",
    "                cur.next = ListNode(l2.val)\n",
    "                l2 = l2.next\n",
    "            cur = cur.next        \n",
    "            \n",
    "        \n",
    "        return head"
   ]
  },
  {
   "cell_type": "markdown",
   "metadata": {},
   "source": [
    "# 注意\n",
    "要考慮邊界條件"
   ]
  },
  {
   "cell_type": "code",
   "execution_count": null,
   "metadata": {
    "collapsed": true
   },
   "outputs": [],
   "source": []
  }
 ],
 "metadata": {
  "kernelspec": {
   "display_name": "Python 3",
   "language": "python",
   "name": "python3"
  },
  "language_info": {
   "codemirror_mode": {
    "name": "ipython",
    "version": 3
   },
   "file_extension": ".py",
   "mimetype": "text/x-python",
   "name": "python",
   "nbconvert_exporter": "python",
   "pygments_lexer": "ipython3",
   "version": "3.6.1"
  }
 },
 "nbformat": 4,
 "nbformat_minor": 2
}
