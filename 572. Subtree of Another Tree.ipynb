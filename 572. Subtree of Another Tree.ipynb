{
 "cells": [
  {
   "cell_type": "markdown",
   "metadata": {},
   "source": [
    "Given two non-empty binary trees s and t, check whether tree t has exactly the same structure and node values with a subtree of s. A subtree of s is a tree consists of a node in s and all of this node's descendants. The tree s could also be considered as a subtree of itself.\n",
    "\n",
    "Example 1:\n",
    "Given tree s:\n",
    "\n",
    "     3\n",
    "    / \\\n",
    "   4   5\n",
    "  / \\\n",
    " 1   2\n",
    "Given tree t:\n",
    "   4 \n",
    "  / \\\n",
    " 1   2\n",
    "Return true, because t has the same structure and node values with a subtree of s.\n",
    "Example 2:\n",
    "Given tree s:\n",
    "\n",
    "     3\n",
    "    / \\\n",
    "   4   5\n",
    "  / \\\n",
    " 1   2\n",
    "    /\n",
    "   0\n",
    "Given tree t:\n",
    "   4\n",
    "  / \\\n",
    " 1   2\n",
    "Return false."
   ]
  },
  {
   "cell_type": "code",
   "execution_count": null,
   "metadata": {
    "collapsed": true
   },
   "outputs": [],
   "source": [
    "錯誤想法：DFS的output相同，應修正為DFS有表示結構的output相同(要記錄每一個是left還是right node)\n",
    "E.g.\n",
    "     1\n",
    "    /\n",
    "   1\n",
    "  /\n",
    " 1\n",
    "\n",
    "和\n",
    "\n",
    "   1\n",
    "    \\\n",
    "     1\n",
    "      \\\n",
    "       1\n",
    "        "
   ]
  },
  {
   "cell_type": "code",
   "execution_count": null,
   "metadata": {
    "collapsed": true
   },
   "outputs": [],
   "source": [
    "法一：recursive，在對s DFS的過程中，對於每一個s node比較他的subtree\n",
    "return root.val and leftsubtree and rightsubtree"
   ]
  },
  {
   "cell_type": "code",
   "execution_count": 7,
   "metadata": {},
   "outputs": [],
   "source": [
    "class Solution:\n",
    "    def isSubtree(self, s, t):\n",
    "        \"\"\"\n",
    "        :type s: TreeNode\n",
    "        :type t: TreeNode\n",
    "        :rtype: bool\n",
    "        \"\"\"\n",
    "        return self.traverse(s,t)\n",
    "        \n",
    "    def traverse(self,s,t):\n",
    "        return  s!=None and ( self.iedenticalTree(s,t) or self.traverse(s.left,t) or self.traverse(s.right,t))\n",
    "        \n",
    "    \n",
    "    def iedenticalTree(self, s, t):\n",
    "        if s==None and t==None:\n",
    "            return True\n",
    "        elif s==None or t==None:\n",
    "            return False\n",
    "        else:\n",
    "            return s.val==t.val and self.iedenticalTree(s.left,t.left) and self.iedenticalTree(s.right,t.right)\n",
    "        "
   ]
  },
  {
   "cell_type": "code",
   "execution_count": null,
   "metadata": {
    "collapsed": true
   },
   "outputs": [],
   "source": [
    "法二：有記錄結構的DFS output"
   ]
  },
  {
   "cell_type": "markdown",
   "metadata": {},
   "source": [
    "# 注意"
   ]
  },
  {
   "cell_type": "code",
   "execution_count": null,
   "metadata": {
    "collapsed": true
   },
   "outputs": [],
   "source": [
    "可記下來，比較兩個tree是否相同\n",
    "def iedenticalTree(self, s, t):\n",
    "    if s==None and t==None:\n",
    "        return True\n",
    "    elif s==None or t==None:\n",
    "        return False\n",
    "    else:\n",
    "        return s.val==t.val and self.iedenticalTree(s.left,t.left) and self.iedenticalTree(s.right,t.right)"
   ]
  }
 ],
 "metadata": {
  "kernelspec": {
   "display_name": "Python 3",
   "language": "python",
   "name": "python3"
  },
  "language_info": {
   "codemirror_mode": {
    "name": "ipython",
    "version": 3
   },
   "file_extension": ".py",
   "mimetype": "text/x-python",
   "name": "python",
   "nbconvert_exporter": "python",
   "pygments_lexer": "ipython3",
   "version": "3.6.1"
  }
 },
 "nbformat": 4,
 "nbformat_minor": 2
}
