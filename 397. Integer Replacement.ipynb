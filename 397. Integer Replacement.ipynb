{
 "cells": [
  {
   "cell_type": "markdown",
   "metadata": {},
   "source": [
    "Given a positive integer n and you can do operations as follow:\n",
    "\n",
    "If n is even, replace n with n/2.\n",
    "If n is odd, you can replace n with either n + 1 or n - 1.\n",
    "What is the minimum number of replacements needed for n to become 1?\n",
    "\n",
    "Example 1:\n",
    "\n",
    "Input:\n",
    "8\n",
    "\n",
    "Output:\n",
    "3\n",
    "\n",
    "Explanation:\n",
    "8 -> 4 -> 2 -> 1\n",
    "Example 2:\n",
    "\n",
    "Input:\n",
    "7\n",
    "\n",
    "Output:\n",
    "4\n",
    "\n",
    "Explanation:\n",
    "7 -> 8 -> 4 -> 2 -> 1\n",
    "or\n",
    "7 -> 6 -> 3 -> 2 -> 1"
   ]
  },
  {
   "cell_type": "code",
   "execution_count": null,
   "metadata": {},
   "outputs": [],
   "source": [
    "#直接 DFS會爆掉\n",
    "#兩種想法\n",
    "#(1)DFS搜索最大限度為  2^k>n\n",
    "#(2)DP"
   ]
  },
  {
   "cell_type": "code",
   "execution_count": null,
   "metadata": {},
   "outputs": [],
   "source": [
    "#法一：DFS with upper bound (accept)"
   ]
  },
  {
   "cell_type": "code",
   "execution_count": 28,
   "metadata": {},
   "outputs": [],
   "source": [
    "class Solution:\n",
    "    def integerReplacement(self, n):\n",
    "        \"\"\"\n",
    "        :type n: int\n",
    "        :rtype: int\n",
    "        \"\"\"\n",
    "        upperbound = 1\n",
    "        while(upperbound<n):\n",
    "            upperbound*=2\n",
    "        #print(upperbound)\n",
    "        def helper(k):\n",
    "            #print(\"k = \"+str(k))\n",
    "            if k==1:\n",
    "                return 0\n",
    "            elif k<=upperbound:\n",
    "                if k%2==0:\n",
    "                    return 1+helper(k/2)\n",
    "                else:\n",
    "                    return min(1+helper(k+1),1+helper(k-1))\n",
    "            else:\n",
    "                return float('Inf')\n",
    "        return helper(n)"
   ]
  },
  {
   "cell_type": "code",
   "execution_count": null,
   "metadata": {},
   "outputs": [],
   "source": [
    "#法二：從法一可以看出有重複計算的子問題，就可以用DP\n",
    "#若n為偶數，f(n) = 1+f(n/2)\n",
    "#若n為奇數，f(n) = min(1+f(n+1),1+f(n-1)) = min(2+f((n+1)/2) , 2+f((n-1)/2))\n",
    "#但bottom up DP會 TLE，因為其實要求出f(n)根本就不需要f(1)~f(n-1)都算出來，相反地用top down就可以省去與答案無關的計算"
   ]
  },
  {
   "cell_type": "code",
   "execution_count": 50,
   "metadata": {},
   "outputs": [],
   "source": [
    "class Solution:\n",
    "    def integerReplacement(self, n):\n",
    "        \"\"\"\n",
    "        :type n: int\n",
    "        :rtype: int\n",
    "        \"\"\"\n",
    "        re = [0]*(n+1)\n",
    "        for i in range(2,n+1):\n",
    "            if i % 2 == 0:\n",
    "                re[i] = 1 + re[int(i/2)]\n",
    "            else:\n",
    "                re[i] = 2+min(re[int((i+1)/2)],re[int((i-1)/2)])\n",
    "        return re[n]"
   ]
  },
  {
   "cell_type": "code",
   "execution_count": 52,
   "metadata": {},
   "outputs": [
    {
     "data": {
      "text/plain": [
       "30"
      ]
     },
     "execution_count": 52,
     "metadata": {},
     "output_type": "execute_result"
    }
   ],
   "source": [
    "Solution().integerReplacement(10000000)"
   ]
  },
  {
   "cell_type": "code",
   "execution_count": null,
   "metadata": {},
   "outputs": [],
   "source": []
  }
 ],
 "metadata": {
  "kernelspec": {
   "display_name": "Python 3",
   "language": "python",
   "name": "python3"
  },
  "language_info": {
   "codemirror_mode": {
    "name": "ipython",
    "version": 3
   },
   "file_extension": ".py",
   "mimetype": "text/x-python",
   "name": "python",
   "nbconvert_exporter": "python",
   "pygments_lexer": "ipython3",
   "version": "3.6.1"
  }
 },
 "nbformat": 4,
 "nbformat_minor": 2
}
