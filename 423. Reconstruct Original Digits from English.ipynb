{
 "cells": [
  {
   "cell_type": "markdown",
   "metadata": {},
   "source": [
    "Given a non-empty string containing an out-of-order English representation of digits 0-9, output the digits in ascending order.\n",
    "\n",
    "Note:\n",
    "Input contains only lowercase English letters.\n",
    "Input is guaranteed to be valid and can be transformed to its original digits. That means invalid inputs such as \"abc\" or \"zerone\" are not permitted.\n",
    "Input length is less than 50,000.\n",
    "Example 1:\n",
    "Input: \"owoztneoer\"\n",
    "\n",
    "Output: \"012\"\n",
    "Example 2:\n",
    "Input: \"fviefuro\"\n",
    "\n",
    "Output: \"45\""
   ]
  },
  {
   "cell_type": "markdown",
   "metadata": {},
   "source": [
    "#這題出乎意料地很多人dislike，而且我覺得應該是easy吧(?)  還是很容易TLE呢？\n",
    "#解法：注意到zero,one...nine的特徵\n",
    "可得知\n",
    "1.可單獨識別\n",
    "(1)z->zero\n",
    "(2)w->two\n",
    "(3)x->six\n",
    "(4)u->four\n",
    "(5)g->eight\n",
    "2.把1.拿掉後，可單獨識別\n",
    "(1)s->seven\n",
    "(2)o->one\n",
    "(3)t->three\n",
    "(4)f->five\n",
    "3.既然剩下只有nine了，只要算有幾個e就是\n",
    "再優化，可以把dependency畫出來\n",
    "z,w,x,u,g\n",
    "\n",
    "#先幹出alphabet的counting table"
   ]
  },
  {
   "cell_type": "code",
   "execution_count": 13,
   "metadata": {},
   "outputs": [],
   "source": [
    "class Solution:\n",
    "    def originalDigits(self, s):\n",
    "        \"\"\"\n",
    "        :type s: str\n",
    "        :rtype: str\n",
    "        \"\"\"\n",
    "        cTable = [0]*26 #representing a-z\n",
    "        nTable = [0]*10 #representing 0-9\n",
    "        for c in s:\n",
    "            cTable[ord(c)-ord('a')]+=1\n",
    "        \n",
    "        print(cTable)\n",
    "        def minusidentifier(ID,accompanies):\n",
    "            for i in accompanies:\n",
    "                cTable[ord(i)-ord('a')]-=cTable[ord(ID)-ord('a')]\n",
    "            \n",
    "            ind = -1\n",
    "            if ID == 'z':\n",
    "                ind = 0\n",
    "            elif ID == 'w':\n",
    "                ind = 2\n",
    "            elif ID == 'x':\n",
    "                ind = 6\n",
    "            elif ID == 'u':\n",
    "                ind = 4\n",
    "            elif ID == 'g':\n",
    "                ind = 8\n",
    "            elif ID == 'o':\n",
    "                ind = 1\n",
    "            elif ID == 't':\n",
    "                ind = 3\n",
    "            elif ID == 'f':\n",
    "                ind = 5\n",
    "            elif ID == 's':\n",
    "                ind = 7\n",
    "            elif ID == 'i':\n",
    "                ind = 9\n",
    "            nTable[ind]+=cTable[ord(ID)-ord('a')]\n",
    "            cTable[ord(ID)-ord('a')]=0\n",
    "            \n",
    "        #z,w,x,u,g\n",
    "        minusidentifier('z',['o'])\n",
    "        minusidentifier('w',['t','o'])\n",
    "        minusidentifier('x',['s','i'])\n",
    "        minusidentifier('u',['f','o'])\n",
    "        minusidentifier('g',['t','i'])\n",
    "        #o,t,f,s\n",
    "        minusidentifier('o',[])\n",
    "        minusidentifier('t',[])\n",
    "        minusidentifier('f',['i'])\n",
    "        minusidentifier('s',[])\n",
    "        #n\n",
    "        minusidentifier('i',[])\n",
    "        \n",
    "        re = []\n",
    "        print(nTable)\n",
    "        for a in range(10):\n",
    "            re+=[str(a)]*nTable[a]\n",
    "        return \"\".join(re)\n",
    "        \n",
    "        \n",
    "            \n",
    "        "
   ]
  },
  {
   "cell_type": "code",
   "execution_count": 14,
   "metadata": {},
   "outputs": [
    {
     "name": "stdout",
     "output_type": "stream",
     "text": [
      "[0, 0, 0, 0, 2, 0, 0, 0, 0, 0, 0, 0, 0, 1, 3, 0, 0, 1, 0, 1, 0, 0, 1, 0, 0, 1]\n",
      "[1, 1, 1, 0, 0, 0, 0, 0, 0, 0]\n"
     ]
    },
    {
     "data": {
      "text/plain": [
       "'012'"
      ]
     },
     "execution_count": 14,
     "metadata": {},
     "output_type": "execute_result"
    }
   ],
   "source": [
    "Solution().originalDigits(\"owoztneoer\")"
   ]
  },
  {
   "cell_type": "code",
   "execution_count": null,
   "metadata": {},
   "outputs": [],
   "source": []
  }
 ],
 "metadata": {
  "kernelspec": {
   "display_name": "Python 3",
   "language": "python",
   "name": "python3"
  },
  "language_info": {
   "codemirror_mode": {
    "name": "ipython",
    "version": 3
   },
   "file_extension": ".py",
   "mimetype": "text/x-python",
   "name": "python",
   "nbconvert_exporter": "python",
   "pygments_lexer": "ipython3",
   "version": "3.6.1"
  }
 },
 "nbformat": 4,
 "nbformat_minor": 2
}
