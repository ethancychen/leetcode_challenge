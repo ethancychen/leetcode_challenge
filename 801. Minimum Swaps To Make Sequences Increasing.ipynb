{
 "cells": [
  {
   "cell_type": "markdown",
   "metadata": {},
   "source": [
    "\n",
    "We have two integer sequences A and B of the same non-zero length.\n",
    "\n",
    "We are allowed to swap elements A[i] and B[i].  Note that both elements are in the same index position in their respective sequences.\n",
    "\n",
    "At the end of some number of swaps, A and B are both strictly increasing.  (A sequence is strictly increasing if and only if A[0] < A[1] < A[2] < ... < A[A.length - 1].)\n",
    "\n",
    "Given A and B, return the minimum number of swaps to make both sequences strictly increasing.  It is guaranteed that the given input always makes it possible.\n",
    "\n",
    "Example:\n",
    "Input: A = [1,3,5,4], B = [1,2,3,7]\n",
    "Output: 1\n",
    "Explanation: \n",
    "Swap A[3] and B[3].  Then the sequences are:\n",
    "A = [1, 3, 5, 7] and B = [1, 2, 3, 4]\n",
    "which are both strictly increasing.\n",
    "Note:\n",
    "\n",
    "A, B are arrays with the same length, and that length will be in the range [1, 1000].\n",
    "A[i], B[i] are integer values in the range [0, 2000]."
   ]
  },
  {
   "cell_type": "code",
   "execution_count": null,
   "metadata": {},
   "outputs": [],
   "source": [
    "法一：暴力法DFS，對於每個位置都可以選擇要換或不換"
   ]
  },
  {
   "cell_type": "code",
   "execution_count": null,
   "metadata": {},
   "outputs": [],
   "source": [
    "class Solution:\n",
    "    def minSwap(self, A, B):\n",
    "        \"\"\"\n",
    "        :type A: List[int]\n",
    "        :type B: List[int]\n",
    "        :rtype: int\n",
    "        \"\"\"\n",
    "        return min(self.minSwap(A[1:],B[1:]),self.minSwap(A[2:],B[2:]))"
   ]
  }
 ],
 "metadata": {
  "kernelspec": {
   "display_name": "Python 3",
   "language": "python",
   "name": "python3"
  },
  "language_info": {
   "codemirror_mode": {
    "name": "ipython",
    "version": 3
   },
   "file_extension": ".py",
   "mimetype": "text/x-python",
   "name": "python",
   "nbconvert_exporter": "python",
   "pygments_lexer": "ipython3",
   "version": "3.6.1"
  }
 },
 "nbformat": 4,
 "nbformat_minor": 2
}
