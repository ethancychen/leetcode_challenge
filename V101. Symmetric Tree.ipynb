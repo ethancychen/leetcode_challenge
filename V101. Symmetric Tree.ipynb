{
 "cells": [
  {
   "cell_type": "markdown",
   "metadata": {},
   "source": [
    "Given a binary tree, check whether it is a mirror of itself (ie, symmetric around its center).\n",
    "\n",
    "For example, this binary tree [1,2,2,3,4,4,3] is symmetric:\n",
    "\n",
    "    1\n",
    "   / \\\n",
    "  2   2\n",
    " / \\ / \\\n",
    "3  4 4  3\n",
    "But the following [1,2,2,null,3,null,3] is not:\n",
    "    1\n",
    "   / \\\n",
    "  2   2\n",
    "   \\   \\\n",
    "   3    3\n",
    "Note:\n",
    "Bonus points if you could solve it both recursively and iteratively."
   ]
  },
  {
   "cell_type": "markdown",
   "metadata": {},
   "source": [
    "法一：左邊subtree和右邊subtree相反順序的DFSoutput會相同\n"
   ]
  },
  {
   "cell_type": "code",
   "execution_count": null,
   "metadata": {
    "collapsed": true
   },
   "outputs": [],
   "source": [
    "# Definition for a binary tree node.\n",
    "# class TreeNode:\n",
    "#     def __init__(self, x):\n",
    "#         self.val = x\n",
    "#         self.left = None\n",
    "#         self.right = None\n",
    "\n",
    "class Solution:\n",
    "    def __init__(self):\n",
    "        self.leftDFSoutputs = []\n",
    "        self.rightDFSoutputs = []\n",
    "    \n",
    "    def isSymmetric(self, root):\n",
    "        \"\"\"\n",
    "        :type root: TreeNode\n",
    "        :rtype: bool\n",
    "        \"\"\"\n",
    "        if root == None:\n",
    "            return True\n",
    "        if root.left == None and root.right == None:\n",
    "            return True\n",
    "        if root.left == None or root.right == None:\n",
    "            return False\n",
    "        self.leftDFS(root)\n",
    "        self.rightDFS(root)\n",
    "        return self.leftDFSoutputs.__eq__(self.rightDFSoutputs)\n",
    "        \n",
    "        \n",
    "    def leftDFS(self,root):\n",
    "        if root == None:\n",
    "            self.leftDFSoutputs.append(None)\n",
    "        else:\n",
    "            self.leftDFSoutputs.append(root.val)\n",
    "            self.leftDFS(root.left)\n",
    "            self.leftDFS(root.right)\n",
    "    \n",
    "    def rightDFS(self,root):\n",
    "        if root == None:\n",
    "            self.rightDFSoutputs.append(None)\n",
    "        else:\n",
    "            self.rightDFSoutputs.append(root.val)\n",
    "            self.rightDFS(root.right)\n",
    "            self.rightDFS(root.left)"
   ]
  },
  {
   "cell_type": "code",
   "execution_count": null,
   "metadata": {
    "collapsed": true
   },
   "outputs": [],
   "source": [
    "法二：參考解答,(left.val==right.val) and (left.left == right.right) and (left.right==right.left)\n"
   ]
  },
  {
   "cell_type": "markdown",
   "metadata": {},
   "source": [
    "2-1:recursive"
   ]
  },
  {
   "cell_type": "code",
   "execution_count": null,
   "metadata": {
    "collapsed": true
   },
   "outputs": [],
   "source": [
    "# Definition for a binary tree node.\n",
    "# class TreeNode:\n",
    "#     def __init__(self, x):\n",
    "#         self.val = x\n",
    "#         self.left = None\n",
    "#         self.right = None\n",
    "\n",
    "class Solution:\n",
    "    def isSymmetric(self, root):\n",
    "        \"\"\"\n",
    "        :type root: TreeNode\n",
    "        :rtype: bool\n",
    "        \"\"\"\n",
    "        return self.isMirror(root,root)\n",
    "    \n",
    "    def isMirror(self, left, right):\n",
    "        if left == None and right == None:\n",
    "            return True\n",
    "        if left == None or right == None:\n",
    "            return False\n",
    "        return (left.val == right.val) and self.isMirror(left.left,right.right) and self.isMirror(left.right, right.left)\n",
    "        "
   ]
  },
  {
   "cell_type": "markdown",
   "metadata": {},
   "source": [
    "2-2:iterative 參考解答\n",
    "使用BFS，注意他只使用一個queue，每一輪都會從queue抓出兩個，當然為了理解方便，我們也可以分成兩個queue來做"
   ]
  },
  {
   "cell_type": "code",
   "execution_count": null,
   "metadata": {
    "collapsed": true
   },
   "outputs": [],
   "source": [
    "public boolean isSymmetric(TreeNode root) {\n",
    "    Queue<TreeNode> q = new LinkedList<>();\n",
    "    q.add(root);\n",
    "    q.add(root);\n",
    "    while (!q.isEmpty()) {\n",
    "        TreeNode t1 = q.poll();\n",
    "        TreeNode t2 = q.poll();\n",
    "        if (t1 == null && t2 == null) continue;\n",
    "        if (t1 == null || t2 == null) return false;\n",
    "        if (t1.val != t2.val) return false;\n",
    "        q.add(t1.left);\n",
    "        q.add(t2.right);\n",
    "        q.add(t1.right);\n",
    "        q.add(t2.left);\n",
    "    }\n",
    "    return true;\n",
    "}"
   ]
  },
  {
   "cell_type": "markdown",
   "metadata": {},
   "source": [
    "# 注意\n",
    "\n"
   ]
  },
  {
   "cell_type": "code",
   "execution_count": 5,
   "metadata": {
    "collapsed": true
   },
   "outputs": [],
   "source": [
    "# 兩個的差別只在DFS是從前端加入queue(如此便等同於stack)，還是BFS從尾端加入queue"
   ]
  },
  {
   "cell_type": "code",
   "execution_count": null,
   "metadata": {
    "collapsed": true
   },
   "outputs": [],
   "source": [
    "python3 已經沒有cmp(a,b)方法可用來比較兩個list裡面的元素\n",
    "物件之間的比較，可用物件方法\n",
    "如\n",
    "[1,2].__eq__([1,2])\n",
    "其他比較函數可見：\n",
    "https://docs.python.org/3/reference/datamodel.html#object.__lt__\n"
   ]
  }
 ],
 "metadata": {
  "kernelspec": {
   "display_name": "Python 3",
   "language": "python",
   "name": "python3"
  },
  "language_info": {
   "codemirror_mode": {
    "name": "ipython",
    "version": 3
   },
   "file_extension": ".py",
   "mimetype": "text/x-python",
   "name": "python",
   "nbconvert_exporter": "python",
   "pygments_lexer": "ipython3",
   "version": "3.6.8"
  }
 },
 "nbformat": 4,
 "nbformat_minor": 2
}
