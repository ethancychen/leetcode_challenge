{
 "cells": [
  {
   "cell_type": "markdown",
   "metadata": {},
   "source": [
    "Given a non-empty 2D array grid of 0's and 1's, an island is a group of 1's (representing land) connected 4-directionally (horizontal or vertical.) You may assume all four edges of the grid are surrounded by water.\n",
    "\n",
    "Find the maximum area of an island in the given 2D array. (If there is no island, the maximum area is 0.)\n",
    "\n",
    "Example 1:\n",
    "[[0,0,1,0,0,0,0,1,0,0,0,0,0],\n",
    " [0,0,0,0,0,0,0,1,1,1,0,0,0],\n",
    " [0,1,1,0,1,0,0,0,0,0,0,0,0],\n",
    " [0,1,0,0,1,1,0,0,1,0,1,0,0],\n",
    " [0,1,0,0,1,1,0,0,1,1,1,0,0],\n",
    " [0,0,0,0,0,0,0,0,0,0,1,0,0],\n",
    " [0,0,0,0,0,0,0,1,1,1,0,0,0],\n",
    " [0,0,0,0,0,0,0,1,1,0,0,0,0]]\n",
    "Given the above grid, return 6. Note the answer is not 11, because the island must be connected 4-directionally.\n",
    "Example 2:\n",
    "[[0,0,0,0,0,0,0,0]]\n",
    "Given the above grid, return 0.\n",
    "Note: The length of each dimension in the given grid does not exceed 50."
   ]
  },
  {
   "cell_type": "code",
   "execution_count": null,
   "metadata": {},
   "outputs": [],
   "source": [
    "還是用DFS吧"
   ]
  },
  {
   "cell_type": "code",
   "execution_count": 14,
   "metadata": {},
   "outputs": [],
   "source": [
    "class Solution:\n",
    "    def maxAreaOfIsland(self, grid):\n",
    "        \"\"\"\n",
    "        :type grid: List[List[int]]\n",
    "        :rtype: int\n",
    "        \"\"\"\n",
    "        maxA = 0\n",
    "        for row in range(len(grid)):\n",
    "            for col in range(len(grid[0])):\n",
    "                if grid[row][col]>0:\n",
    "                    A = self.maxArea(grid,row,col)\n",
    "                    maxA = max(A,maxA)\n",
    "        return maxA\n",
    "        \n",
    "    def maxArea(self,grid,row,col):\n",
    "        if (row >= 0 and row < len(grid) and col >= 0 and col < len(grid[0]) and grid[row][col] > 0):\n",
    "            grid[row][col] = 0 #重點就在這一步，把有經歷過的 node 砍掉\n",
    "            return 1 + self.maxArea(grid,row+1,col) + self.maxArea(grid,row-1,col) + self.maxArea(grid,row,col+1) + self.maxArea(grid,row,col-1)\n",
    "        return 0"
   ]
  },
  {
   "cell_type": "code",
   "execution_count": 15,
   "metadata": {},
   "outputs": [
    {
     "data": {
      "text/plain": [
       "6"
      ]
     },
     "execution_count": 15,
     "metadata": {},
     "output_type": "execute_result"
    }
   ],
   "source": [
    "Solution().maxAreaOfIsland([[0,0,1,0,0,0,0,1,0,0,0,0,0],\n",
    " [0,0,0,0,0,0,0,1,1,1,0,0,0],\n",
    " [0,1,1,0,1,0,0,0,0,0,0,0,0],\n",
    " [0,1,0,0,1,1,0,0,1,0,1,0,0],\n",
    " [0,1,0,0,1,1,0,0,1,1,1,0,0],\n",
    " [0,0,0,0,0,0,0,0,0,0,1,0,0],\n",
    " [0,0,0,0,0,0,0,1,1,1,0,0,0],\n",
    " [0,0,0,0,0,0,0,1,1,0,0,0,0]])"
   ]
  },
  {
   "cell_type": "code",
   "execution_count": null,
   "metadata": {},
   "outputs": [],
   "source": []
  }
 ],
 "metadata": {
  "kernelspec": {
   "display_name": "Python 3",
   "language": "python",
   "name": "python3"
  },
  "language_info": {
   "codemirror_mode": {
    "name": "ipython",
    "version": 3
   },
   "file_extension": ".py",
   "mimetype": "text/x-python",
   "name": "python",
   "nbconvert_exporter": "python",
   "pygments_lexer": "ipython3",
   "version": "3.6.1"
  }
 },
 "nbformat": 4,
 "nbformat_minor": 2
}
