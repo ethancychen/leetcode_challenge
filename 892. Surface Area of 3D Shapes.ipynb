{
 "cells": [
  {
   "cell_type": "markdown",
   "metadata": {},
   "source": [
    "On a N * N grid, we place some 1 * 1 * 1 cubes.\n",
    "\n",
    "Each value v = grid[i][j] represents a tower of v cubes placed on top of grid cell (i, j).\n",
    "\n",
    "Return the total surface area of the resulting shapes.\n",
    "\n",
    " \n",
    "\n",
    "Example 1:\n",
    "\n",
    "Input: [[2]]\n",
    "Output: 10\n",
    "Example 2:\n",
    "\n",
    "Input: [[1,2],[3,4]]\n",
    "Output: 34\n",
    "Example 3:\n",
    "\n",
    "Input: [[1,0],[0,2]]\n",
    "Output: 16\n",
    "Example 4:\n",
    "\n",
    "Input: [[1,1,1],[1,0,1],[1,1,1]]\n",
    "Output: 32\n",
    "Example 5:\n",
    "\n",
    "Input: [[2,2,2],[2,1,2],[2,2,2]]\n",
    "Output: 46\n",
    " \n",
    "\n",
    "Note:\n",
    "\n",
    "1 <= N <= 50\n",
    "0 <= grid[i][j] <= 50"
   ]
  },
  {
   "cell_type": "markdown",
   "metadata": {},
   "source": [
    "解一：對於每一個位置，其增加的表面積=上下+四周-和上面和左邊連結其他的部分\n",
    "                                =2 + 4*高度 - 2*min(上面高度,自身高度)-2*min(左邊高度,自身高度)"
   ]
  },
  {
   "cell_type": "code",
   "execution_count": 6,
   "metadata": {},
   "outputs": [],
   "source": [
    "class Solution:\n",
    "    def surfaceArea(self, grid):\n",
    "        \"\"\"\n",
    "        :type grid: List[List[int]]\n",
    "        :rtype: int\n",
    "        \"\"\"\n",
    "        re = 0\n",
    "        for i in range(len(grid)):\n",
    "            for j in range(len(grid[0])):\n",
    "                if grid[i][j]==0:\n",
    "                    continue\n",
    "                re+=2+4*grid[i][j]\n",
    "                if i>0:\n",
    "                    re-=2*min(grid[i-1][j],grid[i][j])\n",
    "                if j>0:\n",
    "                    re-=2*min(grid[i][j-1],grid[i][j])\n",
    "                    \n",
    "        return re"
   ]
  },
  {
   "cell_type": "code",
   "execution_count": 5,
   "metadata": {},
   "outputs": [
    {
     "data": {
      "text/plain": [
       "46"
      ]
     },
     "execution_count": 5,
     "metadata": {},
     "output_type": "execute_result"
    }
   ],
   "source": [
    "Solution().surfaceArea([[2,2,2],[2,1,2],[2,2,2]])"
   ]
  },
  {
   "cell_type": "code",
   "execution_count": null,
   "metadata": {},
   "outputs": [],
   "source": []
  }
 ],
 "metadata": {
  "kernelspec": {
   "display_name": "Python 3",
   "language": "python",
   "name": "python3"
  },
  "language_info": {
   "codemirror_mode": {
    "name": "ipython",
    "version": 3
   },
   "file_extension": ".py",
   "mimetype": "text/x-python",
   "name": "python",
   "nbconvert_exporter": "python",
   "pygments_lexer": "ipython3",
   "version": "3.6.1"
  }
 },
 "nbformat": 4,
 "nbformat_minor": 2
}
