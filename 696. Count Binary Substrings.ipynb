{
 "cells": [
  {
   "cell_type": "markdown",
   "metadata": {},
   "source": [
    "Give a string s, count the number of non-empty (contiguous) substrings that have the same number of 0's and 1's, and all the 0's and all the 1's in these substrings are grouped consecutively.\n",
    "\n",
    "Substrings that occur multiple times are counted the number of times they occur.\n",
    "\n",
    "Example 1:\n",
    "Input: \"00110011\"\n",
    "Output: 6\n",
    "Explanation: There are 6 substrings that have equal number of consecutive 1's and 0's: \"0011\", \"01\", \"1100\", \"10\", \"0011\", and \"01\".\n",
    "\n",
    "Notice that some of these substrings repeat and are counted the number of times they occur.\n",
    "\n",
    "Also, \"00110011\" is not a valid substring because all the 0's (and 1's) are not grouped together.\n",
    "Example 2:\n",
    "Input: \"10101\"\n",
    "Output: 4\n",
    "Explanation: There are 4 substrings: \"10\", \"01\", \"10\", \"01\" that have equal number of consecutive 1's and 0's.\n",
    "Note:\n",
    "\n",
    "s.length will be between 1 and 50,000.\n",
    "s will only consist of \"0\" or \"1\" characters."
   ]
  },
  {
   "cell_type": "code",
   "execution_count": null,
   "metadata": {
    "collapsed": true
   },
   "outputs": [],
   "source": [
    "解一：暴力法(TLE)"
   ]
  },
  {
   "cell_type": "code",
   "execution_count": 90,
   "metadata": {},
   "outputs": [],
   "source": [
    "class Solution:\n",
    "    def countBinarySubstrings(self, s):\n",
    "        \"\"\"\n",
    "        :type s: str\n",
    "        :rtype: int\n",
    "        \"\"\"\n",
    "        count = 0\n",
    "        for i in range(len(s)):\n",
    "            for j in range(i+1,len(s),2):\n",
    "                #print(i)\n",
    "                #print(j)\n",
    "                sub = s[i:j+1]\n",
    "                #print(\"sub\"+sub)\n",
    "                left = sub[0:int(len(sub)/2)]\n",
    "                right = sub[int(len(sub)/2):]\n",
    "                l = len(left)\n",
    "                #print()\n",
    "                #print(\"left\"+left)\n",
    "                #print(\"right\"+right)\n",
    "                if (left == '0'*l and right == '1'*l) or (left == '1'*l and right == '0'*l):\n",
    "                    #print(\"count!!!\")\n",
    "                    count += 1\n",
    "        return count"
   ]
  },
  {
   "cell_type": "code",
   "execution_count": null,
   "metadata": {
    "collapsed": true
   },
   "outputs": [],
   "source": [
    "解二：參考解答group by words\n",
    "把\"11001\"轉成group list = [2,2,1]\n",
    "則答案就是把各個min(group[i],group[i+1])總和起來"
   ]
  },
  {
   "cell_type": "code",
   "execution_count": 109,
   "metadata": {
    "collapsed": true
   },
   "outputs": [],
   "source": [
    "class Solution:\n",
    "    def countBinarySubstrings(self, s):\n",
    "        \"\"\"\n",
    "        :type s: str\n",
    "        :rtype: int\n",
    "        \"\"\"\n",
    "        group = []\n",
    "        start = 0\n",
    "        for i in range(1,len(s)):\n",
    "            if s[i]!=s[i-1]:\n",
    "                group.append(i-start)\n",
    "                start = i\n",
    "        group.append(len(s)-start)        \n",
    "        count = 0\n",
    "        for i in range(len(group)-1):\n",
    "            count += min(group[i],group[i+1])\n",
    "        return count"
   ]
  },
  {
   "cell_type": "raw",
   "metadata": {},
   "source": [
    "解三：改良解二，反正我們要檢查的只有group前後兩個的關係"
   ]
  },
  {
   "cell_type": "code",
   "execution_count": 110,
   "metadata": {},
   "outputs": [
    {
     "data": {
      "text/plain": [
       "6"
      ]
     },
     "execution_count": 110,
     "metadata": {},
     "output_type": "execute_result"
    }
   ],
   "source": [
    "a = Solution()\n",
    "a.countBinarySubstrings(\"00110011\")"
   ]
  },
  {
   "cell_type": "markdown",
   "metadata": {},
   "source": [
    "# 注意"
   ]
  },
  {
   "cell_type": "code",
   "execution_count": null,
   "metadata": {
    "collapsed": true
   },
   "outputs": [],
   "source": [
    "list[start:stop:step]  #取出來的不包含stop\n"
   ]
  }
 ],
 "metadata": {
  "kernelspec": {
   "display_name": "Python 3",
   "language": "python",
   "name": "python3"
  },
  "language_info": {
   "codemirror_mode": {
    "name": "ipython",
    "version": 3
   },
   "file_extension": ".py",
   "mimetype": "text/x-python",
   "name": "python",
   "nbconvert_exporter": "python",
   "pygments_lexer": "ipython3",
   "version": "3.6.1"
  }
 },
 "nbformat": 4,
 "nbformat_minor": 2
}
