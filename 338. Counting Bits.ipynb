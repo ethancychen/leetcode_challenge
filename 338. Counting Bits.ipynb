{
 "cells": [
  {
   "cell_type": "markdown",
   "metadata": {},
   "source": [
    "Given a non negative integer number num. For every numbers i in the range 0 ≤ i ≤ num calculate the number of 1's in their binary representation and return them as an array.\n",
    "\n",
    "Example:\n",
    "For num = 5 you should return [0,1,1,2,1,2].\n",
    "\n",
    "Follow up:\n",
    "\n",
    "It is very easy to come up with a solution with run time O(n*sizeof(integer)). But can you do it in linear time O(n) /possibly in a single pass?\n",
    "Space complexity should be O(n).\n",
    "Can you do it like a boss? Do it without using any builtin function like __builtin_popcount in c++ or in any other language."
   ]
  },
  {
   "cell_type": "code",
   "execution_count": null,
   "metadata": {},
   "outputs": [],
   "source": [
    "觀察規律\n",
    "\n",
    " 1, | 1,2, | 1,2,2,3 | 1,2,2,3, 2,3,3,4 |...\n",
    "第n-1組,第n-1組都加上1 = 第n組\n",
    "time = log2 n(產生每組裡面的數字)"
   ]
  },
  {
   "cell_type": "code",
   "execution_count": 125,
   "metadata": {},
   "outputs": [],
   "source": [
    "class Solution(object):\n",
    "    def countBits(self, num):\n",
    "        \"\"\"\n",
    "        :type num: int\n",
    "        :rtype: List[int]\n",
    "        \"\"\"\n",
    "        #find the number of bits required for num\n",
    "        temp = num\n",
    "        numbits = 0\n",
    "        while temp > 0:\n",
    "            numbits += 1\n",
    "            temp = (int)(temp/2)\n",
    "        \n",
    "        #initialize list\n",
    "        re = [0] * (num+1)\n",
    "        if num == 0:\n",
    "            return re\n",
    "        re[1] = 1\n",
    "        if num == 1:\n",
    "            return re\n",
    "        # number      1      |    2,3    | 4,5,6,7    | 8,9,10,11,12,13,14,15|\n",
    "        # re          1,     |    1,2,   | 1,2,2,3    | 1,2,2,3, 2,3,3,4     |...\n",
    "        # bits        1      |    2      |     3      |         4            |\n",
    "        #   re [ith bits group] = re [(i-1)th bits group] + (re [(i-1)th bits group] + 1 for each element)\n",
    "        if num >1:\n",
    "            for i in range(2,numbits):\n",
    "                re[2**(i-1):2**(i)] = re[2**(i-2):2**(i-1)] + list(map(lambda x: x+1,re[2**(i-2):2**(i-1)]))\n",
    "        \n",
    "        # padding\n",
    "        diff = num - (2**(numbits-1)-1)\n",
    "        if diff <= 2**(numbits-2):\n",
    "            re[2**(numbits-1):2**(numbits-1)+diff] = re[2**(numbits-2):2**(numbits-2)+diff]\n",
    "        else:\n",
    "            re[2**(numbits-1):2**(numbits-1)+2**(numbits-2)] = re[2**(numbits-2):2**(numbits-1)]\n",
    "            diff -= 2**(numbits-2)\n",
    "            re[2**(numbits-1)+2**(numbits-2):2**(numbits-1)+2**(numbits-2)+diff] = list(map(lambda x: x+1,re[2**(numbits-2):2**(numbits-2)+diff]))\n",
    "        \n",
    "        return re"
   ]
  },
  {
   "cell_type": "markdown",
   "metadata": {},
   "source": [
    "# 注意"
   ]
  },
  {
   "cell_type": "code",
   "execution_count": null,
   "metadata": {},
   "outputs": [],
   "source": [
    "# leetcode上比較推算的解法\n",
    "dp[index] = dp[index - offset] + 1;\n",
    "\n",
    "public int[] countBits(int num) {\n",
    "    int result[] = new int[num + 1];\n",
    "    int offset = 1;\n",
    "    for (int index = 1; index < num + 1; ++index){\n",
    "        if (offset * 2 == index){\n",
    "            offset *= 2;\n",
    "        }\n",
    "        result[index] = result[index - offset] + 1;\n",
    "    }\n",
    "    return result;\n",
    "}"
   ]
  }
 ],
 "metadata": {
  "kernelspec": {
   "display_name": "Python 3",
   "language": "python",
   "name": "python3"
  },
  "language_info": {
   "codemirror_mode": {
    "name": "ipython",
    "version": 3
   },
   "file_extension": ".py",
   "mimetype": "text/x-python",
   "name": "python",
   "nbconvert_exporter": "python",
   "pygments_lexer": "ipython3",
   "version": "3.6.1"
  }
 },
 "nbformat": 4,
 "nbformat_minor": 2
}
