{
 "cells": [
  {
   "cell_type": "markdown",
   "metadata": {},
   "source": [
    "A string S of lowercase letters is given. We want to partition this string into as many parts as possible so that each letter appears in at most one part, and return a list of integers representing the size of these parts.\n",
    "\n",
    "Example 1:\n",
    "Input: S = \"ababcbacadefegdehijhklij\"\n",
    "Output: [9,7,8]\n",
    "Explanation:\n",
    "The partition is \"ababcbaca\", \"defegde\", \"hijhklij\".\n",
    "This is a partition so that each letter appears in at most one part.\n",
    "A partition like \"ababcbacadefegde\", \"hijhklij\" is incorrect, because it splits S into less parts.\n",
    "Note:\n",
    "\n",
    "S will have length in range [1, 500].\n",
    "S will consist of lowercase letters ('a' to 'z') only."
   ]
  },
  {
   "cell_type": "code",
   "execution_count": null,
   "metadata": {},
   "outputs": [],
   "source": [
    "解法一：\n",
    "從第一個字開始，由最後往前尋找相同字最後一次出現的地點last，記錄下來\n",
    "接下來換第二個字，做同樣的事\n",
    "如果起始點就是last，就算一個完整的partition\n",
    "如果最後一個出現的地點比目前紀錄的last還要後面，則更新last"
   ]
  },
  {
   "cell_type": "code",
   "execution_count": 51,
   "metadata": {},
   "outputs": [],
   "source": [
    "class Solution:\n",
    "    def partitionLabels(self, S):\n",
    "        \"\"\"\n",
    "        :type S: str\n",
    "        :rtype: List[int]\n",
    "        \"\"\"\n",
    "        if len(S)==1:\n",
    "            return [1]\n",
    "        start = 0\n",
    "        re = []\n",
    "        last = -1\n",
    "        while start < len(S):\n",
    "            \n",
    "                \n",
    "            for i in range(len(S)-1,start-1,-1):\n",
    "                if S[i] == S[start]:\n",
    "                    if last < i:\n",
    "                        last = i  \n",
    "                    break\n",
    "            if last == start:\n",
    "                re.append(last)\n",
    "                last=-1\n",
    "                start+=1\n",
    "                continue\n",
    "            start+=1\n",
    "        if re==[]:\n",
    "            return [len(S)]\n",
    "        return [re[0]+1]+[re[x]-re[x-1] for x in range(1,len(re))]"
   ]
  },
  {
   "cell_type": "code",
   "execution_count": 53,
   "metadata": {},
   "outputs": [
    {
     "data": {
      "text/plain": [
       "[9, 7, 8]"
      ]
     },
     "execution_count": 53,
     "metadata": {},
     "output_type": "execute_result"
    }
   ],
   "source": [
    "Solution().partitionLabels(\"ababcbacadefegdehijhklij\")"
   ]
  },
  {
   "cell_type": "code",
   "execution_count": 23,
   "metadata": {},
   "outputs": [
    {
     "data": {
      "text/plain": [
       "[10, 9, 8, 7, 6, 5, 4, 3, 2]"
      ]
     },
     "execution_count": 23,
     "metadata": {},
     "output_type": "execute_result"
    }
   ],
   "source": [
    "解法二：\n",
    "先把所有的最後一個整理出來-從最後面開始找，出現新的就是最後一個\n",
    "然後從頭開始loop through list"
   ]
  }
 ],
 "metadata": {
  "kernelspec": {
   "display_name": "Python 3",
   "language": "python",
   "name": "python3"
  },
  "language_info": {
   "codemirror_mode": {
    "name": "ipython",
    "version": 3
   },
   "file_extension": ".py",
   "mimetype": "text/x-python",
   "name": "python",
   "nbconvert_exporter": "python",
   "pygments_lexer": "ipython3",
   "version": "3.6.1"
  }
 },
 "nbformat": 4,
 "nbformat_minor": 2
}
